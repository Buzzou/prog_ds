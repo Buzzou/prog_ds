{
 "cells": [
  {
   "cell_type": "markdown",
   "metadata": {},
   "source": [
    "## COMP5721M: Programming for Data Science \n",
    "\n",
    "## Coursework 3: Data Analysis Project\n",
    "\n",
    "\n",
    "# _Website Survey Data Analysis_\n",
    "\n",
    "* _Matthew_, _sc22mf_@leeds.ac.uk\n",
    "* _Alex_, _fy18aol_@leeds.ac.uk\n",
    "* _Adam_, _ed18ajc_@leeds.ac.uk\n",
    "* _Ruohao_, _sc22r2l_@leeds.ac.uk"
   ]
  },
  {
   "cell_type": "markdown",
   "metadata": {},
   "source": [
    "### Marking Scheme\n",
    "\n",
    "The marking scheme  is as follows:\n",
    "\n",
    "* Project Plan:\n",
    "    * Description of data to be used (10) <- Adam & Matt\n",
    "    * Overview of Project Aims  (5) <- Alex\n",
    "    * Design  (5) <- Ruohao\n",
    "    \n",
    "* Program Code: (15)<br>\n",
    "    Code should be laid out in steps with explanations\n",
    "    and intemediate output with comments. \n",
    "    You should ensure that the steps do not require\n",
    "    a large amout of processing time.\n",
    "\n",
    "* Project Outcome:\n",
    "    * Explanation of Results (10)<br>\n",
    "        This should include a qualitative describtion\n",
    "        of the results as well as key figures and tables\n",
    "        of results.\n",
    "    * Results visualisation (10)<br>\n",
    "        This should be graphical representations of the\n",
    "        results with brief explanations (ordinary tables will be\n",
    "        graded as part of the explanation of results)\n",
    "    * Conclusion (5)"
   ]
  },
  {
   "attachments": {
    "workflow_diagram.png": {
     "image/png": "[encoded data removed]"
    }
   },
   "cell_type": "markdown",
   "metadata": {},
   "source": [
    "# Project Plan\n",
    "\n",
    "## The Data (10 marks)\n",
    "\n",
    "_Here you should describe the data indluding details of:\n",
    "where it comes from, what data it contains, is it accurate. (Potentially you could create data from a simulation but you should still explain why and how you intend to generate this data.)_\n",
    "\n",
    "_It can be just one dataset or several that can be combined\n",
    "somehow._\n",
    "\n",
    "_There are 10 marks for this, so a fairly detailed description\n",
    "of the data is expected (around 300-400 words)_\n",
    "\n",
    "We chose to carry out our data analysis on a website satisfaction survey data set taken directly from Kaggle. The data was uploaded onto Kaggle by user ‘hayri’. The data was obtained from users after they had interacted with an e-commerce website. Each user was assigned a unique user id and asked to give the following information: website language(e.g. English, Spanish etc.), platform (type of device e.g. desktop or mobile) used to access website, gender and age. The user was then asked 26 questions in order to assess the website's design features (including typography, colour, content quality, interactivity and navigation) and the user's loyalty, satisfaction and trust of the website. The questions asked were the following.\n",
    "\n",
    "Typography \n",
    " * q1: It is easy to read the text on this website with the used font type and size.\n",
    " * q2: The font color is appealing on this website.\n",
    " * q3: The text alignment and spacing on this website make the text easy to read.\n",
    "\n",
    "Color\n",
    " * q4: The color scheme of this website is appealing.\n",
    " * q5: The use of color or graphics enhances navigation.\n",
    "\n",
    "Content/information quality\n",
    " * q6: The information content helps in buying decisions by comparing the information about products or services.\n",
    " * q7: The information content provided by this website meets my needs.\n",
    " * q8: Contents and information support for reading and learning about buying process.\n",
    "\n",
    "Interactivity\n",
    " * q9: This website provides adequate feedback to assess my progression when I perform a task.\n",
    " * q10: This website offers customization.\n",
    " * q11: This website offers versatility of ordering process.\n",
    " * q12: This website provides content tailored to the individual.\n",
    " * q13: In this website everything is consistent.\n",
    "\n",
    "Navigation\n",
    " * q14: Navigation aids serve as a logical road map for buying.\n",
    " * q15: Obviousness of buying button and links in this website.\n",
    " * q16: It is easy to personalize or to narrow buying process.\n",
    " * q17: It is easy to learn to use the website.\n",
    " * q18: This website supports reversibility of action.\n",
    "\n",
    "Satisfaction\n",
    " * q19: Overall I am satisfied with the interface of this website.\n",
    " * q20: My current experience with this website is satisfactory.\n",
    " * q21: Overall. I am satisfied with the amount of time it took to complete the tasks for buying products.\n",
    " * q22: Overall. I am satisfied with accuracy for this website related to the buying process.\n",
    "\n",
    "Trust\n",
    " * q23: I trust the information presented on this website.\n",
    " * q24: This website is credible for me.\n",
    "\n",
    "Loyalty\n",
    " * q25: I would visit this website again.\n",
    " * q26: I would recommend this website to my friend.\n",
    "\n",
    "The user's response to each question was measured using a 10-point Likert scale (a score between 1 and 10), with a score of 1 meaning strongly disagree and a score of 10 meaning strongly agree. Therefore, a greater score represents a stronger agreement with the statement (question). In total, 73 users completed the survey so we have 73 rows of data to analyse and from which to draw conclusions.\n",
    "\n",
    "The accuracy of the data is debatable as many factors could skew the results. For example, it is difficult to determine whether all user’s answers to the statements are true representations of their beliefs. It is possible that some users may have inputted false or random data in order to complete the survey quicker. Furthermore, some questions about the design of the website are based on opinions, making it difficult to extract definitive conclusions. \n",
    "\n",
    "On initial inspection of the data, we noticed that there were 'null' values in the platform column. These 'null' values may have arisen due to the user being unsure of the type of their device or misunderstanding the question, resulting in them inputting the device used to access the website rather than its type. For instance, users may have wrongly inputted laptop or tablet when these are both types of mobile device. This is an issue that we can address during the data cleaning process.\n",
    "\n",
    "Other factors such as the sample of people asked to complete the survey could also skew the results. For example, if the participants are regular visitors of the website, they may find it easier to navigate than new users. Additional issues with survey data also exist, such as questions phrased in a more positive or negative way to create inherent bias. \n",
    "\n",
    "These issues suggest that it is important to use a large sample size and extract anomalies before drawing conclusions from the data to get the most accurate result. \n",
    "\n",
    "\n",
    "\n",
    "## Project Aim and Objectives (5 marks)\n",
    "\n",
    "_Here you should describe the general aim of your project in\n",
    "around 200-300 words._\n",
    "![workflow_diagram.png](attachment:workflow_diagram.png)\n",
    "We aim to determine the impact of certain human demographics on the individual’s satisfaction while using a website. We look to quantify if there is a correlation or any reason to why someone may have answered the way they did on this survey. We look at metrics such as age, gender, device platform, and language as our key evaluating demographics. We then are able to analyze this data using pandas data frames to efficiently sort through the answers to the survey. For instance, question 1 states, “It is easy to read the text on this website with the used font type and size.” The individual then answers on a scale of 1-10. A metric we are interested for this question is if age has any factor on the answers to this question. To what extent does age play a role in eyesight, or the appeal of certain font types or sizes. Or, does age have nothing to do with it, and is it rather a question of male vs. female interests. \n",
    "In this project we will address questions such as these and hope to use pandas to clean and sift through the data. We will then be using matplotlib to graph some of the more interesting discoveries we make.\n",
    "\n",
    "### Specific Objective(s)\n",
    "\n",
    "* __Objective 1:__ _Analyse the overall results of the survey using averages. This incudes the average score each question recieved and average score each person gave_\n",
    "* __Objective 2:__ _Analyse whether a persons gender effects the survey results_ \n",
    "* __Objective 3:__ _Analyse whether a persons age effects the survey results_\n",
    "* __Objective 4:__ _Analyse whether the platform the person uses effects the survey results_\n",
    "\n",
    "## System Design (5 marks)\n",
    "\n",
    "_Describe your code in terms of the\n",
    "following two sections._\n",
    "\n",
    "### Architecture\n",
    "\n",
    "We will start our work by utilising Dataframe data structure provided by Pandas Python package. After importing all the original data grabbed on the Internet, we will try to gain some insights by calculating average regrading to both each user and each question. It will be followed by a more in-depth analysis based on three aspects: age, gender and platform. We hope that some valuable information could be extracted by inspecting this way, and then finally put forward some suggestions to the improvement of the website. We will leverage Matplotlib Python package to draw some graphs in order to visualise finds came from each experiment.\n",
    "  \n",
    "### Processing Modules and Algorithms\n",
    "\n",
    "_Briefly list and describe the most significant computational components of your system and the algorithms you will use to implement them. \n",
    "This could include things like:_\n",
    "\n",
    "* _cleaning the data by removing outliers_\n",
    "* _combining different datasets_\n",
    "* _converting samples to a special representaion (such as feature vectors)_\n",
    "* _constructing a special data-structure (such as a decision tree)_\n",
    "* _running some kind of analysis_\n",
    "\n",
    "_Your list can be presented in similar form to the one just given, \n",
    "but should include a brief\n",
    "but more specific description of the components and/or algorithms.\n",
    "Probably three or four components is sufficient for most projects, but\n",
    "you may want to have more._"
   ]
  },
  {
   "cell_type": "markdown",
   "metadata": {},
   "source": [
    "# Program Code (15 marks)\n",
    "\n",
    "_Your code should be divided into relatively short cells, with brief\n",
    "explanation in markup cells between._\n",
    "\n",
    "_As noted in the assigment overview, it is not necessary that your coding be\n",
    "super complex in order to get a good mark. Although there is a mark for\n",
    "the coding achievement, it is only a quarter of the total._\n",
    "\n",
    "_The suggested length of the code is about 150 lines for 1 person or 500\n",
    "for a 4 peope project. You should not use more than 500 lines of code._\n",
    "\n",
    "_You should divide the code in accordance with the specification of modules and/or\n",
    "algorithms you gave in the previous section. Complex modules should be further\n",
    "divided into several code cells._\n",
    "\n",
    "Please note the following about your code:\n",
    "* <b><i>You may import any packages/modules you wish to use for your project.</i></b>\n",
    "\n",
    "\n",
    "* <b><i>You should submit your notebook in a state where all cells have been\n",
    "    executed and are displaying the output that you wish to present for grading.</i></b>\n",
    "    (We will not normally run your code, unless for some reason we wish to check\n",
    "    that the code functionality matches the given description.)\n",
    "    \n",
    "    \n",
    "* Although you may be programming in a \"pipeline\" style, it is strongly suggested you use function definitions to organise your code. As well as being generally good programming practice, it will be helpful for easy and flexibily presentation of results visualisations later in the document. In the visualisation sections you will be able to produce images in a concise and flexible way by calling functions defined in the program code secion."
   ]
  },
  {
   "cell_type": "markdown",
   "metadata": {},
   "source": [
    "Import Pandas and MatPlotLib.\n",
    "Set the global variable survey_df to a DataFrame containing the information from survey.csv."
   ]
  },
  {
   "cell_type": "code",
   "execution_count": 134,
   "metadata": {},
   "outputs": [
    {
     "data": {
      "text/html": [
       "<div>\n",
       "<style scoped>\n",
       "    .dataframe tbody tr th:only-of-type {\n",
       "        vertical-align: middle;\n",
       "    }\n",
       "\n",
       "    .dataframe tbody tr th {\n",
       "        vertical-align: top;\n",
       "    }\n",
       "\n",
       "    .dataframe thead th {\n",
       "        text-align: right;\n",
       "    }\n",
       "</style>\n",
       "<table border=\"1\" class=\"dataframe\">\n",
       "  <thead>\n",
       "    <tr style=\"text-align: right;\">\n",
       "      <th></th>\n",
       "      <th>user_id</th>\n",
       "      <th>language</th>\n",
       "      <th>platform</th>\n",
       "      <th>gender</th>\n",
       "      <th>age</th>\n",
       "      <th>q1</th>\n",
       "      <th>q2</th>\n",
       "      <th>q3</th>\n",
       "      <th>q4</th>\n",
       "      <th>q5</th>\n",
       "      <th>...</th>\n",
       "      <th>q17</th>\n",
       "      <th>q18</th>\n",
       "      <th>q19</th>\n",
       "      <th>q20</th>\n",
       "      <th>q21</th>\n",
       "      <th>q22</th>\n",
       "      <th>q23</th>\n",
       "      <th>q24</th>\n",
       "      <th>q25</th>\n",
       "      <th>q26</th>\n",
       "    </tr>\n",
       "  </thead>\n",
       "  <tbody>\n",
       "    <tr>\n",
       "      <th>0</th>\n",
       "      <td>080c468b-27c0-455c-aa63-b8f807f2e3d7</td>\n",
       "      <td>en</td>\n",
       "      <td>Desktop</td>\n",
       "      <td>male</td>\n",
       "      <td>34</td>\n",
       "      <td>9</td>\n",
       "      <td>7</td>\n",
       "      <td>6</td>\n",
       "      <td>6</td>\n",
       "      <td>7</td>\n",
       "      <td>...</td>\n",
       "      <td>8</td>\n",
       "      <td>4</td>\n",
       "      <td>6</td>\n",
       "      <td>5</td>\n",
       "      <td>6</td>\n",
       "      <td>6</td>\n",
       "      <td>5</td>\n",
       "      <td>2</td>\n",
       "      <td>5</td>\n",
       "      <td>3</td>\n",
       "    </tr>\n",
       "    <tr>\n",
       "      <th>1</th>\n",
       "      <td>0b0379c7-04db-4c85-84bd-a2bd55329e29</td>\n",
       "      <td>en</td>\n",
       "      <td>Mobile</td>\n",
       "      <td>female</td>\n",
       "      <td>19</td>\n",
       "      <td>10</td>\n",
       "      <td>10</td>\n",
       "      <td>10</td>\n",
       "      <td>9</td>\n",
       "      <td>10</td>\n",
       "      <td>...</td>\n",
       "      <td>10</td>\n",
       "      <td>10</td>\n",
       "      <td>10</td>\n",
       "      <td>10</td>\n",
       "      <td>10</td>\n",
       "      <td>10</td>\n",
       "      <td>10</td>\n",
       "      <td>10</td>\n",
       "      <td>9</td>\n",
       "      <td>8</td>\n",
       "    </tr>\n",
       "    <tr>\n",
       "      <th>2</th>\n",
       "      <td>0e623280-b28b-4d4a-8eea-0732f09ed497</td>\n",
       "      <td>en</td>\n",
       "      <td>Mobile</td>\n",
       "      <td>female</td>\n",
       "      <td>19</td>\n",
       "      <td>10</td>\n",
       "      <td>10</td>\n",
       "      <td>10</td>\n",
       "      <td>10</td>\n",
       "      <td>10</td>\n",
       "      <td>...</td>\n",
       "      <td>9</td>\n",
       "      <td>8</td>\n",
       "      <td>10</td>\n",
       "      <td>10</td>\n",
       "      <td>10</td>\n",
       "      <td>10</td>\n",
       "      <td>9</td>\n",
       "      <td>9</td>\n",
       "      <td>8</td>\n",
       "      <td>8</td>\n",
       "    </tr>\n",
       "    <tr>\n",
       "      <th>3</th>\n",
       "      <td>045dc0f3-a730-4d03-a615-f51814e5b04f</td>\n",
       "      <td>en</td>\n",
       "      <td>Mobile</td>\n",
       "      <td>male</td>\n",
       "      <td>21</td>\n",
       "      <td>5</td>\n",
       "      <td>8</td>\n",
       "      <td>5</td>\n",
       "      <td>5</td>\n",
       "      <td>5</td>\n",
       "      <td>...</td>\n",
       "      <td>7</td>\n",
       "      <td>9</td>\n",
       "      <td>10</td>\n",
       "      <td>8</td>\n",
       "      <td>8</td>\n",
       "      <td>10</td>\n",
       "      <td>10</td>\n",
       "      <td>8</td>\n",
       "      <td>10</td>\n",
       "      <td>6</td>\n",
       "    </tr>\n",
       "    <tr>\n",
       "      <th>4</th>\n",
       "      <td>092f2ee7-5281-4a09-9bce-e5523b95b53b</td>\n",
       "      <td>en</td>\n",
       "      <td>NaN</td>\n",
       "      <td>female</td>\n",
       "      <td>53</td>\n",
       "      <td>9</td>\n",
       "      <td>10</td>\n",
       "      <td>9</td>\n",
       "      <td>10</td>\n",
       "      <td>9</td>\n",
       "      <td>...</td>\n",
       "      <td>7</td>\n",
       "      <td>8</td>\n",
       "      <td>8</td>\n",
       "      <td>8</td>\n",
       "      <td>9</td>\n",
       "      <td>9</td>\n",
       "      <td>10</td>\n",
       "      <td>10</td>\n",
       "      <td>10</td>\n",
       "      <td>10</td>\n",
       "    </tr>\n",
       "    <tr>\n",
       "      <th>...</th>\n",
       "      <td>...</td>\n",
       "      <td>...</td>\n",
       "      <td>...</td>\n",
       "      <td>...</td>\n",
       "      <td>...</td>\n",
       "      <td>...</td>\n",
       "      <td>...</td>\n",
       "      <td>...</td>\n",
       "      <td>...</td>\n",
       "      <td>...</td>\n",
       "      <td>...</td>\n",
       "      <td>...</td>\n",
       "      <td>...</td>\n",
       "      <td>...</td>\n",
       "      <td>...</td>\n",
       "      <td>...</td>\n",
       "      <td>...</td>\n",
       "      <td>...</td>\n",
       "      <td>...</td>\n",
       "      <td>...</td>\n",
       "      <td>...</td>\n",
       "    </tr>\n",
       "    <tr>\n",
       "      <th>68</th>\n",
       "      <td>cb71d11a-4e8d-4ab8-80be-ac1f46f5b2d1</td>\n",
       "      <td>en</td>\n",
       "      <td>NaN</td>\n",
       "      <td>male</td>\n",
       "      <td>1</td>\n",
       "      <td>9</td>\n",
       "      <td>9</td>\n",
       "      <td>9</td>\n",
       "      <td>9</td>\n",
       "      <td>7</td>\n",
       "      <td>...</td>\n",
       "      <td>9</td>\n",
       "      <td>6</td>\n",
       "      <td>7</td>\n",
       "      <td>8</td>\n",
       "      <td>8</td>\n",
       "      <td>9</td>\n",
       "      <td>5</td>\n",
       "      <td>5</td>\n",
       "      <td>7</td>\n",
       "      <td>5</td>\n",
       "    </tr>\n",
       "    <tr>\n",
       "      <th>69</th>\n",
       "      <td>cd3dad39-da3f-4ada-9e09-a9832ca7bdd7</td>\n",
       "      <td>en</td>\n",
       "      <td>Mobile</td>\n",
       "      <td>male</td>\n",
       "      <td>21</td>\n",
       "      <td>8</td>\n",
       "      <td>9</td>\n",
       "      <td>10</td>\n",
       "      <td>9</td>\n",
       "      <td>8</td>\n",
       "      <td>...</td>\n",
       "      <td>10</td>\n",
       "      <td>8</td>\n",
       "      <td>10</td>\n",
       "      <td>9</td>\n",
       "      <td>9</td>\n",
       "      <td>8</td>\n",
       "      <td>6</td>\n",
       "      <td>7</td>\n",
       "      <td>8</td>\n",
       "      <td>6</td>\n",
       "    </tr>\n",
       "    <tr>\n",
       "      <th>70</th>\n",
       "      <td>f3b94dcb-2dde-48d7-968d-606fcddd692d</td>\n",
       "      <td>en</td>\n",
       "      <td>Desktop</td>\n",
       "      <td>male</td>\n",
       "      <td>46</td>\n",
       "      <td>10</td>\n",
       "      <td>6</td>\n",
       "      <td>10</td>\n",
       "      <td>6</td>\n",
       "      <td>6</td>\n",
       "      <td>...</td>\n",
       "      <td>5</td>\n",
       "      <td>8</td>\n",
       "      <td>6</td>\n",
       "      <td>5</td>\n",
       "      <td>8</td>\n",
       "      <td>6</td>\n",
       "      <td>1</td>\n",
       "      <td>1</td>\n",
       "      <td>1</td>\n",
       "      <td>1</td>\n",
       "    </tr>\n",
       "    <tr>\n",
       "      <th>71</th>\n",
       "      <td>ddbc5616-edb8-4052-9186-6e105e4491f6</td>\n",
       "      <td>en</td>\n",
       "      <td>Mobile</td>\n",
       "      <td>male</td>\n",
       "      <td>20</td>\n",
       "      <td>10</td>\n",
       "      <td>10</td>\n",
       "      <td>10</td>\n",
       "      <td>10</td>\n",
       "      <td>10</td>\n",
       "      <td>...</td>\n",
       "      <td>10</td>\n",
       "      <td>10</td>\n",
       "      <td>10</td>\n",
       "      <td>10</td>\n",
       "      <td>10</td>\n",
       "      <td>10</td>\n",
       "      <td>10</td>\n",
       "      <td>10</td>\n",
       "      <td>10</td>\n",
       "      <td>10</td>\n",
       "    </tr>\n",
       "    <tr>\n",
       "      <th>72</th>\n",
       "      <td>a7788435-7465-4f4d-9f4f-d412db68b295</td>\n",
       "      <td>en</td>\n",
       "      <td>Mobile</td>\n",
       "      <td>female</td>\n",
       "      <td>18</td>\n",
       "      <td>1</td>\n",
       "      <td>1</td>\n",
       "      <td>1</td>\n",
       "      <td>2</td>\n",
       "      <td>2</td>\n",
       "      <td>...</td>\n",
       "      <td>9</td>\n",
       "      <td>9</td>\n",
       "      <td>8</td>\n",
       "      <td>7</td>\n",
       "      <td>5</td>\n",
       "      <td>7</td>\n",
       "      <td>10</td>\n",
       "      <td>10</td>\n",
       "      <td>6</td>\n",
       "      <td>10</td>\n",
       "    </tr>\n",
       "  </tbody>\n",
       "</table>\n",
       "<p>73 rows × 31 columns</p>\n",
       "</div>"
      ],
      "text/plain": [
       "                                 user_id language platform  gender  age  q1  \\\n",
       "0   080c468b-27c0-455c-aa63-b8f807f2e3d7       en  Desktop    male   34   9   \n",
       "1   0b0379c7-04db-4c85-84bd-a2bd55329e29       en   Mobile  female   19  10   \n",
       "2   0e623280-b28b-4d4a-8eea-0732f09ed497       en   Mobile  female   19  10   \n",
       "3   045dc0f3-a730-4d03-a615-f51814e5b04f       en   Mobile    male   21   5   \n",
       "4   092f2ee7-5281-4a09-9bce-e5523b95b53b       en      NaN  female   53   9   \n",
       "..                                   ...      ...      ...     ...  ...  ..   \n",
       "68  cb71d11a-4e8d-4ab8-80be-ac1f46f5b2d1       en      NaN    male    1   9   \n",
       "69  cd3dad39-da3f-4ada-9e09-a9832ca7bdd7       en   Mobile    male   21   8   \n",
       "70  f3b94dcb-2dde-48d7-968d-606fcddd692d       en  Desktop    male   46  10   \n",
       "71  ddbc5616-edb8-4052-9186-6e105e4491f6       en   Mobile    male   20  10   \n",
       "72  a7788435-7465-4f4d-9f4f-d412db68b295       en   Mobile  female   18   1   \n",
       "\n",
       "    q2  q3  q4  q5  ...  q17  q18  q19  q20  q21  q22  q23  q24  q25  q26  \n",
       "0    7   6   6   7  ...    8    4    6    5    6    6    5    2    5    3  \n",
       "1   10  10   9  10  ...   10   10   10   10   10   10   10   10    9    8  \n",
       "2   10  10  10  10  ...    9    8   10   10   10   10    9    9    8    8  \n",
       "3    8   5   5   5  ...    7    9   10    8    8   10   10    8   10    6  \n",
       "4   10   9  10   9  ...    7    8    8    8    9    9   10   10   10   10  \n",
       "..  ..  ..  ..  ..  ...  ...  ...  ...  ...  ...  ...  ...  ...  ...  ...  \n",
       "68   9   9   9   7  ...    9    6    7    8    8    9    5    5    7    5  \n",
       "69   9  10   9   8  ...   10    8   10    9    9    8    6    7    8    6  \n",
       "70   6  10   6   6  ...    5    8    6    5    8    6    1    1    1    1  \n",
       "71  10  10  10  10  ...   10   10   10   10   10   10   10   10   10   10  \n",
       "72   1   1   2   2  ...    9    9    8    7    5    7   10   10    6   10  \n",
       "\n",
       "[73 rows x 31 columns]"
      ]
     },
     "execution_count": 134,
     "metadata": {},
     "output_type": "execute_result"
    }
   ],
   "source": [
    "# Creating DataFrame\n",
    "import pandas\n",
    "import matplotlib.pyplot as plt\n",
    "\n",
    "survey_df = pandas.read_csv(\"survey.csv\")\n",
    "survey_df\n"
   ]
  },
  {
   "cell_type": "markdown",
   "metadata": {},
   "source": [
    "# Objective 1: Overall Results Analysis"
   ]
  },
  {
   "cell_type": "markdown",
   "metadata": {},
   "source": [
    "Adding an additional column to the dataframe survey_df containing the average score each user gave to the questions asked."
   ]
  },
  {
   "cell_type": "code",
   "execution_count": 42,
   "metadata": {},
   "outputs": [
    {
     "data": {
      "text/html": [
       "<div>\n",
       "<style scoped>\n",
       "    .dataframe tbody tr th:only-of-type {\n",
       "        vertical-align: middle;\n",
       "    }\n",
       "\n",
       "    .dataframe tbody tr th {\n",
       "        vertical-align: top;\n",
       "    }\n",
       "\n",
       "    .dataframe thead th {\n",
       "        text-align: right;\n",
       "    }\n",
       "</style>\n",
       "<table border=\"1\" class=\"dataframe\">\n",
       "  <thead>\n",
       "    <tr style=\"text-align: right;\">\n",
       "      <th></th>\n",
       "      <th>user_id</th>\n",
       "      <th>language</th>\n",
       "      <th>platform</th>\n",
       "      <th>gender</th>\n",
       "      <th>age</th>\n",
       "      <th>q1</th>\n",
       "      <th>q2</th>\n",
       "      <th>q3</th>\n",
       "      <th>q4</th>\n",
       "      <th>q5</th>\n",
       "      <th>...</th>\n",
       "      <th>q18</th>\n",
       "      <th>q19</th>\n",
       "      <th>q20</th>\n",
       "      <th>q21</th>\n",
       "      <th>q22</th>\n",
       "      <th>q23</th>\n",
       "      <th>q24</th>\n",
       "      <th>q25</th>\n",
       "      <th>q26</th>\n",
       "      <th>average-rating-given</th>\n",
       "    </tr>\n",
       "  </thead>\n",
       "  <tbody>\n",
       "    <tr>\n",
       "      <th>0</th>\n",
       "      <td>080c468b-27c0-455c-aa63-b8f807f2e3d7</td>\n",
       "      <td>en</td>\n",
       "      <td>Desktop</td>\n",
       "      <td>male</td>\n",
       "      <td>34</td>\n",
       "      <td>9</td>\n",
       "      <td>7</td>\n",
       "      <td>6</td>\n",
       "      <td>6</td>\n",
       "      <td>7</td>\n",
       "      <td>...</td>\n",
       "      <td>4</td>\n",
       "      <td>6</td>\n",
       "      <td>5</td>\n",
       "      <td>6</td>\n",
       "      <td>6</td>\n",
       "      <td>5</td>\n",
       "      <td>2</td>\n",
       "      <td>5</td>\n",
       "      <td>3</td>\n",
       "      <td>5.423077</td>\n",
       "    </tr>\n",
       "    <tr>\n",
       "      <th>1</th>\n",
       "      <td>0b0379c7-04db-4c85-84bd-a2bd55329e29</td>\n",
       "      <td>en</td>\n",
       "      <td>Mobile</td>\n",
       "      <td>female</td>\n",
       "      <td>19</td>\n",
       "      <td>10</td>\n",
       "      <td>10</td>\n",
       "      <td>10</td>\n",
       "      <td>9</td>\n",
       "      <td>10</td>\n",
       "      <td>...</td>\n",
       "      <td>10</td>\n",
       "      <td>10</td>\n",
       "      <td>10</td>\n",
       "      <td>10</td>\n",
       "      <td>10</td>\n",
       "      <td>10</td>\n",
       "      <td>10</td>\n",
       "      <td>9</td>\n",
       "      <td>8</td>\n",
       "      <td>9.807692</td>\n",
       "    </tr>\n",
       "    <tr>\n",
       "      <th>2</th>\n",
       "      <td>0e623280-b28b-4d4a-8eea-0732f09ed497</td>\n",
       "      <td>en</td>\n",
       "      <td>Mobile</td>\n",
       "      <td>female</td>\n",
       "      <td>19</td>\n",
       "      <td>10</td>\n",
       "      <td>10</td>\n",
       "      <td>10</td>\n",
       "      <td>10</td>\n",
       "      <td>10</td>\n",
       "      <td>...</td>\n",
       "      <td>8</td>\n",
       "      <td>10</td>\n",
       "      <td>10</td>\n",
       "      <td>10</td>\n",
       "      <td>10</td>\n",
       "      <td>9</td>\n",
       "      <td>9</td>\n",
       "      <td>8</td>\n",
       "      <td>8</td>\n",
       "      <td>9.307692</td>\n",
       "    </tr>\n",
       "    <tr>\n",
       "      <th>3</th>\n",
       "      <td>045dc0f3-a730-4d03-a615-f51814e5b04f</td>\n",
       "      <td>en</td>\n",
       "      <td>Mobile</td>\n",
       "      <td>male</td>\n",
       "      <td>21</td>\n",
       "      <td>5</td>\n",
       "      <td>8</td>\n",
       "      <td>5</td>\n",
       "      <td>5</td>\n",
       "      <td>5</td>\n",
       "      <td>...</td>\n",
       "      <td>9</td>\n",
       "      <td>10</td>\n",
       "      <td>8</td>\n",
       "      <td>8</td>\n",
       "      <td>10</td>\n",
       "      <td>10</td>\n",
       "      <td>8</td>\n",
       "      <td>10</td>\n",
       "      <td>6</td>\n",
       "      <td>7.307692</td>\n",
       "    </tr>\n",
       "    <tr>\n",
       "      <th>4</th>\n",
       "      <td>092f2ee7-5281-4a09-9bce-e5523b95b53b</td>\n",
       "      <td>en</td>\n",
       "      <td>NaN</td>\n",
       "      <td>female</td>\n",
       "      <td>53</td>\n",
       "      <td>9</td>\n",
       "      <td>10</td>\n",
       "      <td>9</td>\n",
       "      <td>10</td>\n",
       "      <td>9</td>\n",
       "      <td>...</td>\n",
       "      <td>8</td>\n",
       "      <td>8</td>\n",
       "      <td>8</td>\n",
       "      <td>9</td>\n",
       "      <td>9</td>\n",
       "      <td>10</td>\n",
       "      <td>10</td>\n",
       "      <td>10</td>\n",
       "      <td>10</td>\n",
       "      <td>8.461538</td>\n",
       "    </tr>\n",
       "    <tr>\n",
       "      <th>...</th>\n",
       "      <td>...</td>\n",
       "      <td>...</td>\n",
       "      <td>...</td>\n",
       "      <td>...</td>\n",
       "      <td>...</td>\n",
       "      <td>...</td>\n",
       "      <td>...</td>\n",
       "      <td>...</td>\n",
       "      <td>...</td>\n",
       "      <td>...</td>\n",
       "      <td>...</td>\n",
       "      <td>...</td>\n",
       "      <td>...</td>\n",
       "      <td>...</td>\n",
       "      <td>...</td>\n",
       "      <td>...</td>\n",
       "      <td>...</td>\n",
       "      <td>...</td>\n",
       "      <td>...</td>\n",
       "      <td>...</td>\n",
       "      <td>...</td>\n",
       "    </tr>\n",
       "    <tr>\n",
       "      <th>68</th>\n",
       "      <td>cb71d11a-4e8d-4ab8-80be-ac1f46f5b2d1</td>\n",
       "      <td>en</td>\n",
       "      <td>NaN</td>\n",
       "      <td>male</td>\n",
       "      <td>1</td>\n",
       "      <td>9</td>\n",
       "      <td>9</td>\n",
       "      <td>9</td>\n",
       "      <td>9</td>\n",
       "      <td>7</td>\n",
       "      <td>...</td>\n",
       "      <td>6</td>\n",
       "      <td>7</td>\n",
       "      <td>8</td>\n",
       "      <td>8</td>\n",
       "      <td>9</td>\n",
       "      <td>5</td>\n",
       "      <td>5</td>\n",
       "      <td>7</td>\n",
       "      <td>5</td>\n",
       "      <td>7.038462</td>\n",
       "    </tr>\n",
       "    <tr>\n",
       "      <th>69</th>\n",
       "      <td>cd3dad39-da3f-4ada-9e09-a9832ca7bdd7</td>\n",
       "      <td>en</td>\n",
       "      <td>Mobile</td>\n",
       "      <td>male</td>\n",
       "      <td>21</td>\n",
       "      <td>8</td>\n",
       "      <td>9</td>\n",
       "      <td>10</td>\n",
       "      <td>9</td>\n",
       "      <td>8</td>\n",
       "      <td>...</td>\n",
       "      <td>8</td>\n",
       "      <td>10</td>\n",
       "      <td>9</td>\n",
       "      <td>9</td>\n",
       "      <td>8</td>\n",
       "      <td>6</td>\n",
       "      <td>7</td>\n",
       "      <td>8</td>\n",
       "      <td>6</td>\n",
       "      <td>8.000000</td>\n",
       "    </tr>\n",
       "    <tr>\n",
       "      <th>70</th>\n",
       "      <td>f3b94dcb-2dde-48d7-968d-606fcddd692d</td>\n",
       "      <td>en</td>\n",
       "      <td>Desktop</td>\n",
       "      <td>male</td>\n",
       "      <td>46</td>\n",
       "      <td>10</td>\n",
       "      <td>6</td>\n",
       "      <td>10</td>\n",
       "      <td>6</td>\n",
       "      <td>6</td>\n",
       "      <td>...</td>\n",
       "      <td>8</td>\n",
       "      <td>6</td>\n",
       "      <td>5</td>\n",
       "      <td>8</td>\n",
       "      <td>6</td>\n",
       "      <td>1</td>\n",
       "      <td>1</td>\n",
       "      <td>1</td>\n",
       "      <td>1</td>\n",
       "      <td>4.730769</td>\n",
       "    </tr>\n",
       "    <tr>\n",
       "      <th>71</th>\n",
       "      <td>ddbc5616-edb8-4052-9186-6e105e4491f6</td>\n",
       "      <td>en</td>\n",
       "      <td>Mobile</td>\n",
       "      <td>male</td>\n",
       "      <td>20</td>\n",
       "      <td>10</td>\n",
       "      <td>10</td>\n",
       "      <td>10</td>\n",
       "      <td>10</td>\n",
       "      <td>10</td>\n",
       "      <td>...</td>\n",
       "      <td>10</td>\n",
       "      <td>10</td>\n",
       "      <td>10</td>\n",
       "      <td>10</td>\n",
       "      <td>10</td>\n",
       "      <td>10</td>\n",
       "      <td>10</td>\n",
       "      <td>10</td>\n",
       "      <td>10</td>\n",
       "      <td>10.000000</td>\n",
       "    </tr>\n",
       "    <tr>\n",
       "      <th>72</th>\n",
       "      <td>a7788435-7465-4f4d-9f4f-d412db68b295</td>\n",
       "      <td>en</td>\n",
       "      <td>Mobile</td>\n",
       "      <td>female</td>\n",
       "      <td>18</td>\n",
       "      <td>1</td>\n",
       "      <td>1</td>\n",
       "      <td>1</td>\n",
       "      <td>2</td>\n",
       "      <td>2</td>\n",
       "      <td>...</td>\n",
       "      <td>9</td>\n",
       "      <td>8</td>\n",
       "      <td>7</td>\n",
       "      <td>5</td>\n",
       "      <td>7</td>\n",
       "      <td>10</td>\n",
       "      <td>10</td>\n",
       "      <td>6</td>\n",
       "      <td>10</td>\n",
       "      <td>6.346154</td>\n",
       "    </tr>\n",
       "  </tbody>\n",
       "</table>\n",
       "<p>73 rows × 32 columns</p>\n",
       "</div>"
      ],
      "text/plain": [
       "                                 user_id language platform  gender  age  q1  \\\n",
       "0   080c468b-27c0-455c-aa63-b8f807f2e3d7       en  Desktop    male   34   9   \n",
       "1   0b0379c7-04db-4c85-84bd-a2bd55329e29       en   Mobile  female   19  10   \n",
       "2   0e623280-b28b-4d4a-8eea-0732f09ed497       en   Mobile  female   19  10   \n",
       "3   045dc0f3-a730-4d03-a615-f51814e5b04f       en   Mobile    male   21   5   \n",
       "4   092f2ee7-5281-4a09-9bce-e5523b95b53b       en      NaN  female   53   9   \n",
       "..                                   ...      ...      ...     ...  ...  ..   \n",
       "68  cb71d11a-4e8d-4ab8-80be-ac1f46f5b2d1       en      NaN    male    1   9   \n",
       "69  cd3dad39-da3f-4ada-9e09-a9832ca7bdd7       en   Mobile    male   21   8   \n",
       "70  f3b94dcb-2dde-48d7-968d-606fcddd692d       en  Desktop    male   46  10   \n",
       "71  ddbc5616-edb8-4052-9186-6e105e4491f6       en   Mobile    male   20  10   \n",
       "72  a7788435-7465-4f4d-9f4f-d412db68b295       en   Mobile  female   18   1   \n",
       "\n",
       "    q2  q3  q4  q5  ...  q18  q19  q20  q21  q22  q23  q24  q25  q26  \\\n",
       "0    7   6   6   7  ...    4    6    5    6    6    5    2    5    3   \n",
       "1   10  10   9  10  ...   10   10   10   10   10   10   10    9    8   \n",
       "2   10  10  10  10  ...    8   10   10   10   10    9    9    8    8   \n",
       "3    8   5   5   5  ...    9   10    8    8   10   10    8   10    6   \n",
       "4   10   9  10   9  ...    8    8    8    9    9   10   10   10   10   \n",
       "..  ..  ..  ..  ..  ...  ...  ...  ...  ...  ...  ...  ...  ...  ...   \n",
       "68   9   9   9   7  ...    6    7    8    8    9    5    5    7    5   \n",
       "69   9  10   9   8  ...    8   10    9    9    8    6    7    8    6   \n",
       "70   6  10   6   6  ...    8    6    5    8    6    1    1    1    1   \n",
       "71  10  10  10  10  ...   10   10   10   10   10   10   10   10   10   \n",
       "72   1   1   2   2  ...    9    8    7    5    7   10   10    6   10   \n",
       "\n",
       "    average-rating-given  \n",
       "0               5.423077  \n",
       "1               9.807692  \n",
       "2               9.307692  \n",
       "3               7.307692  \n",
       "4               8.461538  \n",
       "..                   ...  \n",
       "68              7.038462  \n",
       "69              8.000000  \n",
       "70              4.730769  \n",
       "71             10.000000  \n",
       "72              6.346154  \n",
       "\n",
       "[73 rows x 32 columns]"
      ]
     },
     "execution_count": 42,
     "metadata": {},
     "output_type": "execute_result"
    }
   ],
   "source": [
    "# Matt\n",
    "# Average for each row (Average score each user gave)\n",
    "\n",
    "def average_user_rating():\n",
    "    averagesList = []\n",
    "\n",
    "    for i, row in survey_df.iterrows():\n",
    "\n",
    "        j=1\n",
    "        sum = 0\n",
    "\n",
    "        while j<27:\n",
    "            question = 'q' + str(j)\n",
    "            sum = sum + row[question]\n",
    "            j = j+1\n",
    "\n",
    "        average = sum/26\n",
    "        averagesList.append(average)\n",
    "\n",
    "    survey_df['average-rating-given'] = averagesList\n",
    "    return survey_df\n",
    "    \n",
    "average_user_rating()"
   ]
  },
  {
   "cell_type": "markdown",
   "metadata": {},
   "source": [
    "Plotting the data from the average ratings each user gave to understand the overall website satisfaction"
   ]
  },
  {
   "cell_type": "code",
   "execution_count": 47,
   "metadata": {},
   "outputs": [
    {
     "data": {
      "image/png": "[encoded data removed]",
      "text/plain": [
       "<Figure size 432x288 with 1 Axes>"
      ]
     },
     "metadata": {
      "needs_background": "light"
     },
     "output_type": "display_data"
    }
   ],
   "source": [
    "#Matt\n",
    "def plt_average_user_rating():\n",
    "    \n",
    "    two = 0.0\n",
    "    four = 0.0\n",
    "    six = 0.0\n",
    "    eight = 0.0\n",
    "    ten = 0.0\n",
    "        \n",
    "    for i, row in survey_df.iterrows():\n",
    "        \n",
    "        if int(row['average-rating-given']) in range(0, 1):\n",
    "            two += 1\n",
    "        if int(row['average-rating-given']) in range(2, 3):\n",
    "            four += 1\n",
    "        if int(row['average-rating-given']) in range(4, 5):\n",
    "            six += 1\n",
    "        if int(row['average-rating-given']) in range(6, 7):\n",
    "            eight += 1\n",
    "        if int(row['average-rating-given']) in range(8, 10):\n",
    "            ten += 1\n",
    "\n",
    "    averageRatings = ['0-2', '2-4', '4-6', '6-8', '8-10']\n",
    "    numFor = [two, four, six, eight, ten]\n",
    "    \n",
    "    plt.bar(averageRatings, numFor, color ='blue',\n",
    "            width = 0.4)\n",
    "    \n",
    "    plt.ylabel(\"Number of people\")\n",
    "    plt.xlabel(\"Average rating\")\n",
    "    plt.title(\"Figure 1: Average ratings users gave the website\")\n",
    "    plt.show()\n",
    "    \n",
    "plt_average_user_rating()"
   ]
  },
  {
   "cell_type": "code",
   "execution_count": 56,
   "metadata": {},
   "outputs": [
    {
     "data": {
      "text/plain": [
       "{'q1': 8.01,\n",
       " 'q2': 7.86,\n",
       " 'q3': 7.82,\n",
       " 'q4': 7.41,\n",
       " 'q5': 7.51,\n",
       " 'q6': 7.64,\n",
       " 'q7': 7.63,\n",
       " 'q8': 7.6,\n",
       " 'q9': 7.07,\n",
       " 'q10': 6.44,\n",
       " 'q11': 7.05,\n",
       " 'q12': 6.86,\n",
       " 'q13': 7.53,\n",
       " 'q14': 7.68,\n",
       " 'q15': 7.58,\n",
       " 'q16': 7.04,\n",
       " 'q17': 8.07,\n",
       " 'q18': 7.45,\n",
       " 'q19': 7.47,\n",
       " 'q20': 7.41,\n",
       " 'q21': 7.59,\n",
       " 'q22': 7.81,\n",
       " 'q23': 7.56,\n",
       " 'q24': 7.48,\n",
       " 'q25': 7.56,\n",
       " 'q26': 7.33}"
      ]
     },
     "execution_count": 56,
     "metadata": {},
     "output_type": "execute_result"
    }
   ],
   "source": [
    "# Adam\n",
    "\n",
    "# Aim of this function is to compute the average score of each question column to 2 decimal places.\n",
    "# Function has no arguments.\n",
    "# Outputs dictionary with questions as keys and their corresponding average score as values.\n",
    "\n",
    "def average_question_rating():\n",
    "    av_rating_list = []\n",
    "    question_cols = survey_df[survey_df.columns[5:31]]\n",
    "    for column in question_cols:\n",
    "        average = round(sum(survey_df[column])/ len(survey_df[column]), 2)\n",
    "        av_rating_list.append(average)\n",
    "    return {list(question_cols.columns)[i] : av_rating_list[i] for i in range(len(av_rating_list))}\n",
    "\n",
    "average_question_rating()"
   ]
  },
  {
   "cell_type": "code",
   "execution_count": 58,
   "metadata": {},
   "outputs": [
    {
     "data": {
      "text/plain": [
       "[('q10', 6.44),\n",
       " ('q12', 6.86),\n",
       " ('q16', 7.04),\n",
       " ('q11', 7.05),\n",
       " ('q9', 7.07),\n",
       " ('q26', 7.33),\n",
       " ('q4', 7.41),\n",
       " ('q20', 7.41),\n",
       " ('q18', 7.45),\n",
       " ('q19', 7.47),\n",
       " ('q24', 7.48),\n",
       " ('q5', 7.51),\n",
       " ('q13', 7.53),\n",
       " ('q23', 7.56),\n",
       " ('q25', 7.56),\n",
       " ('q15', 7.58),\n",
       " ('q21', 7.59),\n",
       " ('q8', 7.6),\n",
       " ('q7', 7.63),\n",
       " ('q6', 7.64),\n",
       " ('q14', 7.68),\n",
       " ('q22', 7.81),\n",
       " ('q3', 7.82),\n",
       " ('q2', 7.86),\n",
       " ('q1', 8.01),\n",
       " ('q17', 8.07)]"
      ]
     },
     "execution_count": 58,
     "metadata": {},
     "output_type": "execute_result"
    }
   ],
   "source": [
    "# Outputs a list of 2-tuples of the form (question, average score) ascending in average score.\n",
    "\n",
    "def ascending_average_question_rating():\n",
    "    return sorted(average_question_rating().items(), key = lambda x:x[1])\n",
    "\n",
    "ascending_average_question_rating()"
   ]
  },
  {
   "cell_type": "code",
   "execution_count": 77,
   "metadata": {},
   "outputs": [
    {
     "data": {
      "image/png": "[encoded data removed]",
      "text/plain": [
       "<Figure size 1152x360 with 1 Axes>"
      ]
     },
     "metadata": {
      "needs_background": "light"
     },
     "output_type": "display_data"
    }
   ],
   "source": [
    "def plot_average_question_rating():\n",
    "\n",
    "    qr = average_question_rating()\n",
    "    \n",
    "    names = list(qr.keys())\n",
    "    values = list(qr.values())\n",
    "\n",
    "    fig, ax = plt.subplots(1, 1, figsize = (16, 5)) \n",
    "    \n",
    "    plt.bar(range(len(qr)), values, tick_label=names)\n",
    "    plt.title('Figure 2: Average Score for Each Question')\n",
    "    plt.show()\n",
    "    \n",
    "plot_average_question_rating()"
   ]
  },
  {
   "cell_type": "markdown",
   "metadata": {},
   "source": [
    "# Objective 2: Gender analysis"
   ]
  },
  {
   "cell_type": "code",
   "execution_count": 48,
   "metadata": {},
   "outputs": [
    {
     "data": {
      "text/plain": [
       "male      45\n",
       "female    26\n",
       "other      2\n",
       "Name: gender, dtype: int64"
      ]
     },
     "execution_count": 48,
     "metadata": {},
     "output_type": "execute_result"
    }
   ],
   "source": [
    "# Adam\n",
    "# Let us check how many genders we have and how many users there are in each gender.\n",
    "\n",
    "survey_df['gender'].value_counts()"
   ]
  },
  {
   "cell_type": "code",
   "execution_count": 40,
   "metadata": {},
   "outputs": [
    {
     "data": {
      "text/plain": [
       "7.318803418803418"
      ]
     },
     "execution_count": 40,
     "metadata": {},
     "output_type": "execute_result"
    }
   ],
   "source": [
    "# Matt\n",
    "# get average rating given by all members of a specific gender\n",
    "\n",
    "# parameter = gender: 'male', 'female', 'other'\n",
    "\n",
    "#Seems to be an issue when I tried running this function, I got a key error for 'average rating given' - Alex\n",
    "\n",
    "def average_rating_for_gender(gender):\n",
    "    \n",
    "    gender_df = survey_df[ survey_df['gender'] == gender]\n",
    "\n",
    "    sum = 0\n",
    "\n",
    "    for i, row in gender_df.iterrows():\n",
    "\n",
    "        sum = sum + row['average-rating-given']\n",
    "\n",
    "    df_length = len(gender_df.index)\n",
    "    average = sum/df_length    \n",
    "    return average\n",
    "\n",
    "average_rating_for_gender(\"male\")"
   ]
  },
  {
   "cell_type": "code",
   "execution_count": 41,
   "metadata": {
    "scrolled": true
   },
   "outputs": [
    {
     "data": {
      "text/plain": [
       "7.881656804733728"
      ]
     },
     "execution_count": 41,
     "metadata": {},
     "output_type": "execute_result"
    }
   ],
   "source": [
    "average_rating_for_gender(\"female\")"
   ]
  },
  {
   "cell_type": "code",
   "execution_count": 106,
   "metadata": {},
   "outputs": [
    {
     "data": {
      "image/png": "[encoded data removed]",
      "text/plain": [
       "<Figure size 432x288 with 1 Axes>"
      ]
     },
     "metadata": {
      "needs_background": "light"
     },
     "output_type": "display_data"
    }
   ],
   "source": [
    "def plt_average_rating_for_gender():\n",
    "\n",
    "    values = [average_rating_for_gender(\"male\"), average_rating_for_gender(\"female\")]\n",
    "    \n",
    "    names = [\"males\",\"femailes\"]\n",
    "    \n",
    "    plt.bar(names, values, tick_label=names)\n",
    "    plt.title('Average Score for Each Question')\n",
    "    plt.show()\n",
    "    \n",
    "plt_average_rating_for_gender()"
   ]
  },
  {
   "cell_type": "code",
   "execution_count": 84,
   "metadata": {},
   "outputs": [],
   "source": [
    "# Adam\n",
    "\n",
    "# Aim of this function is to compute the average score of each question column for a specified gender to 2 decimal places.\n",
    "# Function takes a single string argument that is one of: 'male'/'female'/'other' and outputs a dictionary with questions \n",
    "# as keys and their corresponding average score as values.\n",
    "\n",
    "def average_gender_question_rating(gender):\n",
    "    gender_df = survey_df[ survey_df['gender'] == gender]\n",
    "    av_rating_list = []\n",
    "    question_cols = gender_df[gender_df.columns[5:31]]\n",
    "    for column in question_cols:\n",
    "        average = round(sum(gender_df[column])/ len(gender_df[column]), 2)\n",
    "        av_rating_list.append(average)\n",
    "    return {list(question_cols.columns)[i] : av_rating_list[i] for i in range(len(av_rating_list))}\n"
   ]
  },
  {
   "cell_type": "code",
   "execution_count": 85,
   "metadata": {},
   "outputs": [],
   "source": [
    "# Adam\n",
    "\n",
    "# Outputs a list of 2-tuples of the form (question, average score) ascending in average score using data from the \n",
    "# specified gender only.\n",
    "\n",
    "def ascending_average_gender_question_rating(gender):\n",
    "    return sorted(average_gender_question_rating(gender).items(), key = lambda x:x[1])"
   ]
  },
  {
   "cell_type": "code",
   "execution_count": 98,
   "metadata": {},
   "outputs": [
    {
     "data": {
      "image/png": "[encoded data removed]",
      "text/plain": [
       "<Figure size 1152x360 with 1 Axes>"
      ]
     },
     "metadata": {
      "needs_background": "light"
     },
     "output_type": "display_data"
    }
   ],
   "source": [
    "def plt_average_gender_question_rating():\n",
    "    \n",
    "    import numpy as np \n",
    "\n",
    "    qr_male = average_gender_question_rating('male')\n",
    "    qr_female = average_gender_question_rating('female')\n",
    "    \n",
    "    namesBoy = list(qr_male.keys())\n",
    "    valuesBoy = list(qr_male.values())\n",
    "    \n",
    "    namesGirl = list(qr_female.keys())\n",
    "    valuesGirl = list(qr_female.values())\n",
    "    \n",
    "    X_axis = np.arange(len(namesBoy))\n",
    "\n",
    "    fig, ax = plt.subplots(1, 1, figsize = (16, 5)) \n",
    "    \n",
    "    plt.bar(X_axis - 0.2, valuesBoy, 0.4, label = 'Male')\n",
    "    plt.bar(X_axis + 0.2, valuesGirl, 0.4, label = 'Femaile')\n",
    "\n",
    "    plt.xticks(X_axis, namesBoy)\n",
    "    plt.xlabel(\"Question Number\")\n",
    "    plt.ylabel(\"Average Score\")\n",
    "    plt.title(\"Number of Students in each group\")\n",
    "    plt.legend()\n",
    "    plt.show()\n",
    "    \n",
    "plt_average_gender_question_rating()"
   ]
  },
  {
   "cell_type": "code",
   "execution_count": 139,
   "metadata": {},
   "outputs": [
    {
     "data": {
      "image/png": "[encoded data removed]",
      "text/plain": [
       "<Figure size 432x288 with 1 Axes>"
      ]
     },
     "metadata": {},
     "output_type": "display_data"
    }
   ],
   "source": [
    "def plot_number_of_gender():\n",
    "\n",
    "    import numpy as np\n",
    "\n",
    "    mylabels = 'Male', 'Female', 'Other'\n",
    "    male = len(survey_df[ survey_df['gender'] == 'male'])\n",
    "    female = len(survey_df[ survey_df['gender'] == 'female'])\n",
    "    other = len(survey_df[ survey_df['gender'] == 'other'])\n",
    "    \n",
    "    y = np.array([male, female, other])\n",
    "\n",
    "    plt.pie(y, labels = mylabels)\n",
    "    plt.show()\n",
    "                                                                                                              \n",
    "plot_number_of_gender()                                                                                                         "
   ]
  },
  {
   "cell_type": "markdown",
   "metadata": {},
   "source": [
    "# Objective 3: Age Analysis"
   ]
  },
  {
   "cell_type": "code",
   "execution_count": 51,
   "metadata": {},
   "outputs": [
    {
     "data": {
      "image/png": "[encoded data removed]",
      "text/plain": [
       "<Figure size 432x288 with 1 Axes>"
      ]
     },
     "metadata": {
      "needs_background": "light"
     },
     "output_type": "display_data"
    },
    {
     "name": "stdout",
     "output_type": "stream",
     "text": [
      "[(34, 'Desktop'), (19, 'Mobile'), (19, 'Mobile'), (21, 'Mobile'), (53, 'Mobile'), (18, 'Desktop'), (20, 'Mobile'), (19, 'Mobile'), (19, 'Mobile'), (13, 'Mobile'), (18, 'Mobile'), (19, 'Mobile'), (34, 'Mobile'), (29, 'Desktop'), (19, 'Mobile'), (44, 'Mobile'), (21, 'Desktop'), (20, 'Mobile'), (20, 'Mobile'), (20, 'Mobile'), (18, 'Mobile'), (2, 'Mobile'), (21, 'Mobile'), (27, 'Mobile'), (18, 'Mobile'), (45, 'Mobile'), (51, 'Mobile'), (21, 'Mobile'), (18, 'Mobile'), (21, 'Mobile'), (37, 'Mobile'), (38, 'Desktop'), (18, 'Mobile'), (45, 'Mobile'), (21, 'Mobile'), (20, 'Mobile'), (26, 'Mobile'), (18, 'Desktop'), (20, 'Mobile'), (19, 'Desktop'), (37, 'Desktop'), (22, 'Mobile'), (20, 'Mobile'), (21, 'Mobile'), (19, 'Mobile'), (40, 'Mobile'), (46, 'Mobile'), (55, 'Desktop'), (19, 'Mobile'), (19, 'Mobile'), (21, 'Mobile'), (45, 'Mobile'), (19, 'Mobile'), (19, 'Mobile'), (21, 'Mobile'), (21, 'Mobile'), (18, 'Desktop'), (20, 'Mobile'), (18, 'Mobile'), (20, 'Mobile'), (12, 'Mobile'), (21, 'Mobile'), (46, 'Desktop'), (20, 'Mobile'), (18, 'Mobile')]\n"
     ]
    },
    {
     "data": {
      "image/png": "[encoded data removed]",
      "text/plain": [
       "<Figure size 432x288 with 1 Axes>"
      ]
     },
     "metadata": {
      "needs_background": "light"
     },
     "output_type": "display_data"
    },
    {
     "name": "stdout",
     "output_type": "stream",
     "text": [
      "[(34, 'Desktop'), (19, 'Mobile'), (19, 'Mobile'), (21, 'Mobile'), (53, 'Mobile'), (18, 'Desktop'), (20, 'Mobile'), (19, 'Mobile'), (19, 'Mobile'), (13, 'Mobile'), (18, 'Mobile'), (19, 'Mobile'), (34, 'Mobile'), (29, 'Desktop'), (19, 'Mobile'), (44, 'Mobile'), (21, 'Desktop'), (20, 'Mobile'), (20, 'Mobile'), (20, 'Mobile'), (18, 'Mobile'), (2, 'Mobile'), (21, 'Mobile'), (27, 'Mobile'), (18, 'Mobile'), (45, 'Mobile'), (51, 'Mobile'), (21, 'Mobile'), (18, 'Mobile'), (21, 'Mobile'), (37, 'Mobile'), (38, 'Desktop'), (18, 'Mobile'), (45, 'Mobile'), (21, 'Mobile'), (20, 'Mobile'), (26, 'Mobile'), (18, 'Desktop'), (20, 'Mobile'), (19, 'Desktop'), (37, 'Desktop'), (22, 'Mobile'), (20, 'Mobile'), (21, 'Mobile'), (19, 'Mobile'), (40, 'Mobile'), (46, 'Mobile'), (55, 'Desktop'), (19, 'Mobile'), (19, 'Mobile'), (21, 'Mobile'), (45, 'Mobile'), (19, 'Mobile'), (19, 'Mobile'), (21, 'Mobile'), (21, 'Mobile'), (18, 'Desktop'), (20, 'Mobile'), (18, 'Mobile'), (20, 'Mobile'), (12, 'Mobile'), (21, 'Mobile'), (46, 'Desktop'), (20, 'Mobile'), (18, 'Mobile')]\n"
     ]
    }
   ],
   "source": [
    "# Alex\n",
    "\n",
    "# Calculate what platforms an age range prefers\n",
    "# This function will be graphed\n",
    "# COMPLETED\n",
    "def PlatformByAge(platform):\n",
    "    finalshow = []\n",
    "    oneTo10 = 0\n",
    "    elevenTo20 = 0\n",
    "    twentyOneTo30 = 0\n",
    "    thirtyOneTo40 = 0\n",
    "    fortyOneTo55 = 0\n",
    "    \n",
    "    for i, row in survey_df.iterrows():\n",
    "        if row['platform'] == \"Desktop\" or row['platform'] == \"Mobile\":\n",
    "            finalshow.append((row['age'], row['platform']))\n",
    "    \n",
    "    for entry in finalshow:\n",
    "        if entry[1] == platform:\n",
    "            if entry[0] in range(1, 10):\n",
    "                oneTo10 += 1\n",
    "            if entry[0] in range(11, 20):\n",
    "                elevenTo20 += 1\n",
    "            if entry[0] in range(21, 30):\n",
    "                twentyOneTo30 += 1\n",
    "            if entry[0] in range(31, 40):\n",
    "                thirtyOneTo40 += 1\n",
    "            if entry[0] in range(41, 55):\n",
    "                fortyOneTo55 += 1\n",
    "\n",
    "    ageRanges = ['1-10', '11-20', '21-30', '31-40', '41-55']\n",
    "    numFor = [oneTo10, elevenTo20, twentyOneTo30, thirtyOneTo40, fortyOneTo55]\n",
    "    \n",
    "    plt.bar(ageRanges, numFor, color ='blue',\n",
    "            width = 0.4)\n",
    "    \n",
    "    plt.xlabel(\"Age Range\")\n",
    "    plt.ylabel(\"Number of Users\")\n",
    "    plt.title(\"People that prefer to use %s by age range\"%(platform))\n",
    "    plt.show()\n",
    "\n",
    "    return finalshow\n",
    "\n",
    "print(PlatformByAge(\"Desktop\"))\n",
    "print(PlatformByAge(\"Mobile\"))"
   ]
  },
  {
   "cell_type": "code",
   "execution_count": 119,
   "metadata": {},
   "outputs": [
    {
     "data": {
      "image/png": "[encoded data removed]",
      "text/plain": [
       "<Figure size 432x288 with 1 Axes>"
      ]
     },
     "metadata": {
      "needs_background": "light"
     },
     "output_type": "display_data"
    }
   ],
   "source": [
    "def platformByAge():\n",
    "    \n",
    "    import numpy as np \n",
    "\n",
    "    finalshow = []\n",
    "    oneTo10 = 0\n",
    "    elevenTo20 = 0\n",
    "    twentyOneTo30 = 0\n",
    "    thirtyOneTo40 = 0\n",
    "    fortyOneTo55 = 0\n",
    "    oneTo10D = 0\n",
    "    elevenTo20D = 0\n",
    "    twentyOneTo30D = 0\n",
    "    thirtyOneTo40D = 0\n",
    "    fortyOneTo55D = 0\n",
    "   \n",
    "    for i, row in survey_df.iterrows():\n",
    "        if row['platform'] == \"Desktop\" or row['platform'] == \"Mobile\":\n",
    "            finalshow.append((row['age'], row['platform']))\n",
    "    \n",
    "    for entry in finalshow:\n",
    "        if entry[1] == \"Mobile\":\n",
    "            if entry[0] in range(1, 10):\n",
    "                oneTo10 += 1\n",
    "            if entry[0] in range(11, 20):\n",
    "                elevenTo20 += 1\n",
    "            if entry[0] in range(21, 30):\n",
    "                twentyOneTo30 += 1\n",
    "            if entry[0] in range(31, 40):\n",
    "                thirtyOneTo40 += 1\n",
    "            if entry[0] in range(41, 55):\n",
    "                fortyOneTo55 += 1\n",
    "                \n",
    "        elif entry[1] == \"Desktop\":\n",
    "            if entry[0] in range(1, 10):\n",
    "                oneTo10D += 1\n",
    "            if entry[0] in range(11, 20):\n",
    "                elevenTo20D += 1\n",
    "            if entry[0] in range(21, 30):\n",
    "                twentyOneTo30D += 1\n",
    "            if entry[0] in range(31, 40):\n",
    "                thirtyOneTo40D += 1\n",
    "            if entry[0] in range(41, 55):\n",
    "                fortyOneTo55D += 1\n",
    "\n",
    "    ageRanges = ['1-10', '11-20', '21-30', '31-40', '41-55']\n",
    "    \n",
    "    X_axis = np.arange(len(ageRanges))\n",
    "    \n",
    "    numFor = [oneTo10, elevenTo20, twentyOneTo30, thirtyOneTo40, fortyOneTo55]\n",
    "    numForD = [oneTo10D, elevenTo20D, twentyOneTo30D, thirtyOneTo40D, fortyOneTo55D]\n",
    "    \n",
    "    plt.bar(X_axis - 0.2, numFor, 0.4, label = 'Mobile')\n",
    "    plt.bar(X_axis + 0.2, numForD, 0.4, label = 'Desktop')\n",
    "    \n",
    "    #plt.bar(ageRanges, numFor, color ='blue',\n",
    "            #width = 0.4)\n",
    "    \n",
    "    plt.xticks(X_axis, ageRanges)\n",
    "    \n",
    "    plt.xlabel(\"Age Range\")\n",
    "    plt.ylabel(\"Number of Users\")\n",
    "    plt.title(\"People that prefer to use mobile and dekstop by age range\")\n",
    "    plt.show()\n",
    "\n",
    "    #return finalshow\n",
    "    \n",
    "platformByAge()\n",
    "\n"
   ]
  },
  {
   "cell_type": "code",
   "execution_count": 15,
   "metadata": {},
   "outputs": [
    {
     "name": "stdout",
     "output_type": "stream",
     "text": [
      "7.532051282051281\n"
     ]
    }
   ],
   "source": [
    "# Alex\n",
    "\n",
    "# Outputs the average overall rating of the certain age range specified\n",
    "# ageRange should be passed as in tuple format, i.e. (1, 10) or (10, 20) etc\n",
    "def AverageRatingAge(ageRange):\n",
    "    total = 0\n",
    "    entries = 0\n",
    "    for i, row in survey_df.iterrows():\n",
    "        if row['age'] in range(ageRange[0], ageRange[1]):\n",
    "            start = 1\n",
    "            tempTotal = 0\n",
    "            while start != 27:\n",
    "                question = 'q' + str(start)\n",
    "                tempTotal += row[question]\n",
    "                start += 1\n",
    "            total += tempTotal / 26\n",
    "            entries += 1\n",
    "    average = total / entries\n",
    "    \n",
    "    return average\n",
    "print(AverageRatingAge((1,15)))"
   ]
  },
  {
   "cell_type": "code",
   "execution_count": 16,
   "metadata": {},
   "outputs": [
    {
     "data": {
      "image/png": "[encoded data removed]",
      "text/plain": [
       "<Figure size 432x288 with 1 Axes>"
      ]
     },
     "metadata": {
      "needs_background": "light"
     },
     "output_type": "display_data"
    },
    {
     "name": "stdout",
     "output_type": "stream",
     "text": [
      "[(1, 10, 6.88), (1, 10, 6.88), (1, 10, 6.88), (1, 10, 6.88), (11, 20, 7.86), (11, 20, 7.86), (11, 20, 7.86), (11, 20, 7.86), (11, 20, 7.86), (11, 20, 7.86), (11, 20, 7.86), (11, 20, 7.86), (11, 20, 7.86), (11, 20, 7.86), (11, 20, 7.86), (11, 20, 7.86), (11, 20, 7.86), (11, 20, 7.86), (11, 20, 7.86), (11, 20, 7.86), (11, 20, 7.86), (11, 20, 7.86), (11, 20, 7.86), (11, 20, 7.86), (11, 20, 7.86), (11, 20, 7.86), (11, 20, 7.86), (11, 20, 7.86), (21, 30, 7.54), (21, 30, 7.54), (21, 30, 7.54), (21, 30, 7.54), (21, 30, 7.54), (21, 30, 7.54), (21, 30, 7.54), (21, 30, 7.54), (21, 30, 7.54), (21, 30, 7.54), (21, 30, 7.54), (21, 30, 7.54), (21, 30, 7.54), (21, 30, 7.54), (21, 30, 7.54), (21, 30, 7.54), (21, 30, 7.54), (31, 40, 6.41), (31, 40, 6.41), (31, 40, 6.41), (31, 40, 6.41), (31, 40, 6.41), (41, 50, 6.55), (41, 50, 6.55), (41, 50, 6.55), (41, 50, 6.55), (41, 50, 6.55), (41, 50, 6.55), (41, 50, 6.55), (41, 50, 6.55), (51, 60, 7.57), (51, 60, 7.57), (51, 60, 7.57), (51, 60, 7.57)]\n"
     ]
    }
   ],
   "source": [
    "# Alex\n",
    "\n",
    "# Might graph this idk\n",
    "# Outputs list of tuples indicating average scores of age ranges 1-10, 11-20, 21-30, etc\n",
    "def AvgVAge():\n",
    "    ageRatingList = []\n",
    "    oneTo10 = 0\n",
    "    elevenTo20 = 0\n",
    "    twentyOneTo30 = 0\n",
    "    thirtyOneTo40 = 0\n",
    "    fortyOneTo50 = 0\n",
    "    fiftyOneTo60 = 0\n",
    "    for i, row in survey_df.iterrows():\n",
    "        if row['age'] <= 10:\n",
    "            ageRatingList.append((1, 10, round(AverageRatingAge((1, 10)), 2)))\n",
    "            oneTo10 = round(AverageRatingAge((1, 10)), 2)\n",
    "        if row['age'] in range(11, 20):\n",
    "            ageRatingList.append((11, 20, round(AverageRatingAge((11, 20)), 2)))\n",
    "            elevenTo20 = round(AverageRatingAge((11, 20)), 2)\n",
    "        if row['age'] in range(21, 30):\n",
    "            ageRatingList.append((21, 30, round(AverageRatingAge((21, 30)), 2)))\n",
    "            twentyOneTo30 = round(AverageRatingAge((21, 30)), 2)\n",
    "        if row['age'] in range(31, 40):\n",
    "            ageRatingList.append((31, 40, round(AverageRatingAge((31, 40)), 2)))\n",
    "            thirtyOneTo40 = round(AverageRatingAge((31, 40)), 2)\n",
    "        if row['age'] in range(41, 50):\n",
    "            ageRatingList.append((41, 50, round(AverageRatingAge((41, 50)), 2)))\n",
    "            fortyOneTo50 = round(AverageRatingAge((41, 50)), 2)\n",
    "        if row['age'] in range(51, 60):\n",
    "            ageRatingList.append((51, 60, round(AverageRatingAge((51, 60)), 2)))\n",
    "            fiftyOneTo60 = round(AverageRatingAge((51, 60)), 2)\n",
    "\n",
    "    ageRanges = ['1-10', '11-20', '21-30', '31-40', '41-50', '51-60']\n",
    "    numFor = [oneTo10, elevenTo20, twentyOneTo30, thirtyOneTo40, fortyOneTo50, fiftyOneTo60]\n",
    "    plt.bar(ageRanges, numFor, color ='red',\n",
    "            width = 0.5)\n",
    "    \n",
    "    plt.xlabel(\"Age Range\")\n",
    "    plt.ylabel(\"Average Score Of Users\")\n",
    "    plt.title(\"Average Rating Measured In Terms Of Age Group\")\n",
    "    plt.show()\n",
    "\n",
    "    return sorted(ageRatingList)\n",
    "\n",
    "print(AvgVAge())  "
   ]
  },
  {
   "cell_type": "markdown",
   "metadata": {},
   "source": [
    "# Objective 4: Platform Analysis"
   ]
  },
  {
   "cell_type": "markdown",
   "metadata": {},
   "source": [
    "#### Discovering whether different version of platform of the website will have an impact on user's satisfactory"
   ]
  },
  {
   "cell_type": "code",
   "execution_count": 144,
   "metadata": {},
   "outputs": [
    {
     "data": {
      "text/html": [
       "<div>\n",
       "<style scoped>\n",
       "    .dataframe tbody tr th:only-of-type {\n",
       "        vertical-align: middle;\n",
       "    }\n",
       "\n",
       "    .dataframe tbody tr th {\n",
       "        vertical-align: top;\n",
       "    }\n",
       "\n",
       "    .dataframe thead th {\n",
       "        text-align: right;\n",
       "    }\n",
       "</style>\n",
       "<table border=\"1\" class=\"dataframe\">\n",
       "  <thead>\n",
       "    <tr style=\"text-align: right;\">\n",
       "      <th></th>\n",
       "      <th>age</th>\n",
       "      <th>q1</th>\n",
       "      <th>q2</th>\n",
       "      <th>q3</th>\n",
       "      <th>q4</th>\n",
       "      <th>q5</th>\n",
       "      <th>q6</th>\n",
       "      <th>q7</th>\n",
       "      <th>q8</th>\n",
       "      <th>q9</th>\n",
       "      <th>...</th>\n",
       "      <th>q17</th>\n",
       "      <th>q18</th>\n",
       "      <th>q19</th>\n",
       "      <th>q20</th>\n",
       "      <th>q21</th>\n",
       "      <th>q22</th>\n",
       "      <th>q23</th>\n",
       "      <th>q24</th>\n",
       "      <th>q25</th>\n",
       "      <th>q26</th>\n",
       "    </tr>\n",
       "    <tr>\n",
       "      <th>platform</th>\n",
       "      <th></th>\n",
       "      <th></th>\n",
       "      <th></th>\n",
       "      <th></th>\n",
       "      <th></th>\n",
       "      <th></th>\n",
       "      <th></th>\n",
       "      <th></th>\n",
       "      <th></th>\n",
       "      <th></th>\n",
       "      <th></th>\n",
       "      <th></th>\n",
       "      <th></th>\n",
       "      <th></th>\n",
       "      <th></th>\n",
       "      <th></th>\n",
       "      <th></th>\n",
       "      <th></th>\n",
       "      <th></th>\n",
       "      <th></th>\n",
       "      <th></th>\n",
       "    </tr>\n",
       "  </thead>\n",
       "  <tbody>\n",
       "    <tr>\n",
       "      <th>Desktop</th>\n",
       "      <td>30.272727</td>\n",
       "      <td>8.545455</td>\n",
       "      <td>7.818182</td>\n",
       "      <td>7.454545</td>\n",
       "      <td>7.363636</td>\n",
       "      <td>7.454545</td>\n",
       "      <td>7.727273</td>\n",
       "      <td>7.545455</td>\n",
       "      <td>7.454545</td>\n",
       "      <td>5.909091</td>\n",
       "      <td>...</td>\n",
       "      <td>7.909091</td>\n",
       "      <td>6.545455</td>\n",
       "      <td>7.181818</td>\n",
       "      <td>6.545455</td>\n",
       "      <td>6.727273</td>\n",
       "      <td>7.181818</td>\n",
       "      <td>6.545455</td>\n",
       "      <td>6.636364</td>\n",
       "      <td>6.363636</td>\n",
       "      <td>6.000000</td>\n",
       "    </tr>\n",
       "    <tr>\n",
       "      <th>Mobile</th>\n",
       "      <td>23.833333</td>\n",
       "      <td>7.925926</td>\n",
       "      <td>7.851852</td>\n",
       "      <td>7.870370</td>\n",
       "      <td>7.314815</td>\n",
       "      <td>7.648148</td>\n",
       "      <td>7.740741</td>\n",
       "      <td>7.759259</td>\n",
       "      <td>7.814815</td>\n",
       "      <td>7.722222</td>\n",
       "      <td>...</td>\n",
       "      <td>8.277778</td>\n",
       "      <td>7.907407</td>\n",
       "      <td>7.722222</td>\n",
       "      <td>7.740741</td>\n",
       "      <td>7.851852</td>\n",
       "      <td>8.055556</td>\n",
       "      <td>7.888889</td>\n",
       "      <td>7.777778</td>\n",
       "      <td>7.962963</td>\n",
       "      <td>7.777778</td>\n",
       "    </tr>\n",
       "  </tbody>\n",
       "</table>\n",
       "<p>2 rows × 27 columns</p>\n",
       "</div>"
      ],
      "text/plain": [
       "                age        q1        q2        q3        q4        q5  \\\n",
       "platform                                                                \n",
       "Desktop   30.272727  8.545455  7.818182  7.454545  7.363636  7.454545   \n",
       "Mobile    23.833333  7.925926  7.851852  7.870370  7.314815  7.648148   \n",
       "\n",
       "                q6        q7        q8        q9  ...       q17       q18  \\\n",
       "platform                                          ...                       \n",
       "Desktop   7.727273  7.545455  7.454545  5.909091  ...  7.909091  6.545455   \n",
       "Mobile    7.740741  7.759259  7.814815  7.722222  ...  8.277778  7.907407   \n",
       "\n",
       "               q19       q20       q21       q22       q23       q24  \\\n",
       "platform                                                               \n",
       "Desktop   7.181818  6.545455  6.727273  7.181818  6.545455  6.636364   \n",
       "Mobile    7.722222  7.740741  7.851852  8.055556  7.888889  7.777778   \n",
       "\n",
       "               q25       q26  \n",
       "platform                      \n",
       "Desktop   6.363636  6.000000  \n",
       "Mobile    7.962963  7.777778  \n",
       "\n",
       "[2 rows x 27 columns]"
      ]
     },
     "execution_count": 144,
     "metadata": {},
     "output_type": "execute_result"
    }
   ],
   "source": [
    "# Ruohao - Average each question according to platform\n",
    "\n",
    "survey_df_grouped_by_platform = survey_df.groupby(by='platform')\n",
    "mean_by_platform = survey_df_grouped_by_platform.mean()\n",
    "mean_by_platform"
   ]
  },
  {
   "cell_type": "code",
   "execution_count": 145,
   "metadata": {},
   "outputs": [
    {
     "data": {
      "text/plain": [
       "platform\n",
       "Desktop    11\n",
       "Mobile     54\n",
       "dtype: int64"
      ]
     },
     "execution_count": 145,
     "metadata": {},
     "output_type": "execute_result"
    }
   ],
   "source": [
    "survey_df_grouped_by_platform.size()"
   ]
  },
  {
   "cell_type": "code",
   "execution_count": 146,
   "metadata": {},
   "outputs": [
    {
     "data": {
      "text/plain": [
       "platform\n",
       "Desktop    30.272727\n",
       "Mobile     23.833333\n",
       "Name: age, dtype: float64"
      ]
     },
     "execution_count": 146,
     "metadata": {},
     "output_type": "execute_result"
    }
   ],
   "source": [
    "mean_by_platform.pop('age')"
   ]
  },
  {
   "cell_type": "code",
   "execution_count": 65,
   "metadata": {},
   "outputs": [
    {
     "data": {
      "text/html": [
       "<div>\n",
       "<style scoped>\n",
       "    .dataframe tbody tr th:only-of-type {\n",
       "        vertical-align: middle;\n",
       "    }\n",
       "\n",
       "    .dataframe tbody tr th {\n",
       "        vertical-align: top;\n",
       "    }\n",
       "\n",
       "    .dataframe thead th {\n",
       "        text-align: right;\n",
       "    }\n",
       "</style>\n",
       "<table border=\"1\" class=\"dataframe\">\n",
       "  <thead>\n",
       "    <tr style=\"text-align: right;\">\n",
       "      <th></th>\n",
       "      <th>age</th>\n",
       "      <th>q1</th>\n",
       "      <th>q2</th>\n",
       "      <th>q3</th>\n",
       "      <th>q4</th>\n",
       "      <th>q5</th>\n",
       "      <th>q6</th>\n",
       "      <th>q7</th>\n",
       "      <th>q8</th>\n",
       "      <th>q9</th>\n",
       "      <th>...</th>\n",
       "      <th>q18</th>\n",
       "      <th>q19</th>\n",
       "      <th>q20</th>\n",
       "      <th>q21</th>\n",
       "      <th>q22</th>\n",
       "      <th>q23</th>\n",
       "      <th>q24</th>\n",
       "      <th>q25</th>\n",
       "      <th>q26</th>\n",
       "      <th>average rating given</th>\n",
       "    </tr>\n",
       "  </thead>\n",
       "  <tbody>\n",
       "    <tr>\n",
       "      <th>count</th>\n",
       "      <td>11.000000</td>\n",
       "      <td>11.000000</td>\n",
       "      <td>11.000000</td>\n",
       "      <td>11.000000</td>\n",
       "      <td>11.000000</td>\n",
       "      <td>11.000000</td>\n",
       "      <td>11.000000</td>\n",
       "      <td>11.000000</td>\n",
       "      <td>11.000000</td>\n",
       "      <td>11.000000</td>\n",
       "      <td>...</td>\n",
       "      <td>11.000000</td>\n",
       "      <td>11.000000</td>\n",
       "      <td>11.000000</td>\n",
       "      <td>11.000000</td>\n",
       "      <td>11.000000</td>\n",
       "      <td>11.000000</td>\n",
       "      <td>11.000000</td>\n",
       "      <td>11.000000</td>\n",
       "      <td>11.000000</td>\n",
       "      <td>11.000000</td>\n",
       "    </tr>\n",
       "    <tr>\n",
       "      <th>mean</th>\n",
       "      <td>30.272727</td>\n",
       "      <td>8.545455</td>\n",
       "      <td>7.818182</td>\n",
       "      <td>7.454545</td>\n",
       "      <td>7.363636</td>\n",
       "      <td>7.454545</td>\n",
       "      <td>7.727273</td>\n",
       "      <td>7.545455</td>\n",
       "      <td>7.454545</td>\n",
       "      <td>5.909091</td>\n",
       "      <td>...</td>\n",
       "      <td>6.545455</td>\n",
       "      <td>7.181818</td>\n",
       "      <td>6.545455</td>\n",
       "      <td>6.727273</td>\n",
       "      <td>7.181818</td>\n",
       "      <td>6.545455</td>\n",
       "      <td>6.636364</td>\n",
       "      <td>6.363636</td>\n",
       "      <td>6.000000</td>\n",
       "      <td>6.828671</td>\n",
       "    </tr>\n",
       "    <tr>\n",
       "      <th>std</th>\n",
       "      <td>12.822565</td>\n",
       "      <td>1.439697</td>\n",
       "      <td>1.721522</td>\n",
       "      <td>2.161649</td>\n",
       "      <td>1.804036</td>\n",
       "      <td>1.634848</td>\n",
       "      <td>1.272078</td>\n",
       "      <td>1.368476</td>\n",
       "      <td>1.694912</td>\n",
       "      <td>2.625054</td>\n",
       "      <td>...</td>\n",
       "      <td>2.114882</td>\n",
       "      <td>1.601136</td>\n",
       "      <td>2.067058</td>\n",
       "      <td>2.935674</td>\n",
       "      <td>2.182576</td>\n",
       "      <td>2.910795</td>\n",
       "      <td>3.233349</td>\n",
       "      <td>2.907670</td>\n",
       "      <td>3.316625</td>\n",
       "      <td>1.577426</td>\n",
       "    </tr>\n",
       "    <tr>\n",
       "      <th>min</th>\n",
       "      <td>18.000000</td>\n",
       "      <td>5.000000</td>\n",
       "      <td>5.000000</td>\n",
       "      <td>4.000000</td>\n",
       "      <td>4.000000</td>\n",
       "      <td>5.000000</td>\n",
       "      <td>6.000000</td>\n",
       "      <td>6.000000</td>\n",
       "      <td>5.000000</td>\n",
       "      <td>2.000000</td>\n",
       "      <td>...</td>\n",
       "      <td>4.000000</td>\n",
       "      <td>5.000000</td>\n",
       "      <td>4.000000</td>\n",
       "      <td>1.000000</td>\n",
       "      <td>3.000000</td>\n",
       "      <td>1.000000</td>\n",
       "      <td>1.000000</td>\n",
       "      <td>1.000000</td>\n",
       "      <td>1.000000</td>\n",
       "      <td>4.730769</td>\n",
       "    </tr>\n",
       "    <tr>\n",
       "      <th>25%</th>\n",
       "      <td>18.500000</td>\n",
       "      <td>8.000000</td>\n",
       "      <td>6.500000</td>\n",
       "      <td>5.500000</td>\n",
       "      <td>6.000000</td>\n",
       "      <td>6.000000</td>\n",
       "      <td>7.000000</td>\n",
       "      <td>6.500000</td>\n",
       "      <td>6.000000</td>\n",
       "      <td>4.000000</td>\n",
       "      <td>...</td>\n",
       "      <td>4.500000</td>\n",
       "      <td>6.000000</td>\n",
       "      <td>5.000000</td>\n",
       "      <td>5.000000</td>\n",
       "      <td>6.000000</td>\n",
       "      <td>5.000000</td>\n",
       "      <td>4.500000</td>\n",
       "      <td>4.000000</td>\n",
       "      <td>3.000000</td>\n",
       "      <td>5.807692</td>\n",
       "    </tr>\n",
       "    <tr>\n",
       "      <th>50%</th>\n",
       "      <td>29.000000</td>\n",
       "      <td>9.000000</td>\n",
       "      <td>8.000000</td>\n",
       "      <td>8.000000</td>\n",
       "      <td>7.000000</td>\n",
       "      <td>7.000000</td>\n",
       "      <td>8.000000</td>\n",
       "      <td>7.000000</td>\n",
       "      <td>7.000000</td>\n",
       "      <td>7.000000</td>\n",
       "      <td>...</td>\n",
       "      <td>7.000000</td>\n",
       "      <td>7.000000</td>\n",
       "      <td>6.000000</td>\n",
       "      <td>8.000000</td>\n",
       "      <td>7.000000</td>\n",
       "      <td>7.000000</td>\n",
       "      <td>8.000000</td>\n",
       "      <td>8.000000</td>\n",
       "      <td>8.000000</td>\n",
       "      <td>6.576923</td>\n",
       "    </tr>\n",
       "    <tr>\n",
       "      <th>75%</th>\n",
       "      <td>37.500000</td>\n",
       "      <td>9.500000</td>\n",
       "      <td>9.000000</td>\n",
       "      <td>9.000000</td>\n",
       "      <td>9.000000</td>\n",
       "      <td>9.000000</td>\n",
       "      <td>8.500000</td>\n",
       "      <td>8.500000</td>\n",
       "      <td>8.500000</td>\n",
       "      <td>7.500000</td>\n",
       "      <td>...</td>\n",
       "      <td>8.000000</td>\n",
       "      <td>8.500000</td>\n",
       "      <td>8.500000</td>\n",
       "      <td>8.500000</td>\n",
       "      <td>9.000000</td>\n",
       "      <td>9.000000</td>\n",
       "      <td>9.000000</td>\n",
       "      <td>8.000000</td>\n",
       "      <td>8.000000</td>\n",
       "      <td>8.096154</td>\n",
       "    </tr>\n",
       "    <tr>\n",
       "      <th>max</th>\n",
       "      <td>55.000000</td>\n",
       "      <td>10.000000</td>\n",
       "      <td>10.000000</td>\n",
       "      <td>10.000000</td>\n",
       "      <td>10.000000</td>\n",
       "      <td>10.000000</td>\n",
       "      <td>10.000000</td>\n",
       "      <td>10.000000</td>\n",
       "      <td>10.000000</td>\n",
       "      <td>10.000000</td>\n",
       "      <td>...</td>\n",
       "      <td>10.000000</td>\n",
       "      <td>10.000000</td>\n",
       "      <td>10.000000</td>\n",
       "      <td>10.000000</td>\n",
       "      <td>10.000000</td>\n",
       "      <td>10.000000</td>\n",
       "      <td>10.000000</td>\n",
       "      <td>10.000000</td>\n",
       "      <td>10.000000</td>\n",
       "      <td>9.500000</td>\n",
       "    </tr>\n",
       "  </tbody>\n",
       "</table>\n",
       "<p>8 rows × 28 columns</p>\n",
       "</div>"
      ],
      "text/plain": [
       "             age         q1         q2         q3         q4         q5  \\\n",
       "count  11.000000  11.000000  11.000000  11.000000  11.000000  11.000000   \n",
       "mean   30.272727   8.545455   7.818182   7.454545   7.363636   7.454545   \n",
       "std    12.822565   1.439697   1.721522   2.161649   1.804036   1.634848   \n",
       "min    18.000000   5.000000   5.000000   4.000000   4.000000   5.000000   \n",
       "25%    18.500000   8.000000   6.500000   5.500000   6.000000   6.000000   \n",
       "50%    29.000000   9.000000   8.000000   8.000000   7.000000   7.000000   \n",
       "75%    37.500000   9.500000   9.000000   9.000000   9.000000   9.000000   \n",
       "max    55.000000  10.000000  10.000000  10.000000  10.000000  10.000000   \n",
       "\n",
       "              q6         q7         q8         q9  ...        q18        q19  \\\n",
       "count  11.000000  11.000000  11.000000  11.000000  ...  11.000000  11.000000   \n",
       "mean    7.727273   7.545455   7.454545   5.909091  ...   6.545455   7.181818   \n",
       "std     1.272078   1.368476   1.694912   2.625054  ...   2.114882   1.601136   \n",
       "min     6.000000   6.000000   5.000000   2.000000  ...   4.000000   5.000000   \n",
       "25%     7.000000   6.500000   6.000000   4.000000  ...   4.500000   6.000000   \n",
       "50%     8.000000   7.000000   7.000000   7.000000  ...   7.000000   7.000000   \n",
       "75%     8.500000   8.500000   8.500000   7.500000  ...   8.000000   8.500000   \n",
       "max    10.000000  10.000000  10.000000  10.000000  ...  10.000000  10.000000   \n",
       "\n",
       "             q20        q21        q22        q23        q24        q25  \\\n",
       "count  11.000000  11.000000  11.000000  11.000000  11.000000  11.000000   \n",
       "mean    6.545455   6.727273   7.181818   6.545455   6.636364   6.363636   \n",
       "std     2.067058   2.935674   2.182576   2.910795   3.233349   2.907670   \n",
       "min     4.000000   1.000000   3.000000   1.000000   1.000000   1.000000   \n",
       "25%     5.000000   5.000000   6.000000   5.000000   4.500000   4.000000   \n",
       "50%     6.000000   8.000000   7.000000   7.000000   8.000000   8.000000   \n",
       "75%     8.500000   8.500000   9.000000   9.000000   9.000000   8.000000   \n",
       "max    10.000000  10.000000  10.000000  10.000000  10.000000  10.000000   \n",
       "\n",
       "             q26  average rating given  \n",
       "count  11.000000             11.000000  \n",
       "mean    6.000000              6.828671  \n",
       "std     3.316625              1.577426  \n",
       "min     1.000000              4.730769  \n",
       "25%     3.000000              5.807692  \n",
       "50%     8.000000              6.576923  \n",
       "75%     8.000000              8.096154  \n",
       "max    10.000000              9.500000  \n",
       "\n",
       "[8 rows x 28 columns]"
      ]
     },
     "execution_count": 65,
     "metadata": {},
     "output_type": "execute_result"
    }
   ],
   "source": [
    "survey_df_grouped_by_platform.get_group(name='Desktop').describe()"
   ]
  },
  {
   "cell_type": "code",
   "execution_count": 66,
   "metadata": {},
   "outputs": [
    {
     "data": {
      "text/html": [
       "<div>\n",
       "<style scoped>\n",
       "    .dataframe tbody tr th:only-of-type {\n",
       "        vertical-align: middle;\n",
       "    }\n",
       "\n",
       "    .dataframe tbody tr th {\n",
       "        vertical-align: top;\n",
       "    }\n",
       "\n",
       "    .dataframe thead th {\n",
       "        text-align: right;\n",
       "    }\n",
       "</style>\n",
       "<table border=\"1\" class=\"dataframe\">\n",
       "  <thead>\n",
       "    <tr style=\"text-align: right;\">\n",
       "      <th></th>\n",
       "      <th>age</th>\n",
       "      <th>q1</th>\n",
       "      <th>q2</th>\n",
       "      <th>q3</th>\n",
       "      <th>q4</th>\n",
       "      <th>q5</th>\n",
       "      <th>q6</th>\n",
       "      <th>q7</th>\n",
       "      <th>q8</th>\n",
       "      <th>q9</th>\n",
       "      <th>...</th>\n",
       "      <th>q18</th>\n",
       "      <th>q19</th>\n",
       "      <th>q20</th>\n",
       "      <th>q21</th>\n",
       "      <th>q22</th>\n",
       "      <th>q23</th>\n",
       "      <th>q24</th>\n",
       "      <th>q25</th>\n",
       "      <th>q26</th>\n",
       "      <th>average rating given</th>\n",
       "    </tr>\n",
       "  </thead>\n",
       "  <tbody>\n",
       "    <tr>\n",
       "      <th>count</th>\n",
       "      <td>54.000000</td>\n",
       "      <td>54.000000</td>\n",
       "      <td>54.000000</td>\n",
       "      <td>54.00000</td>\n",
       "      <td>54.000000</td>\n",
       "      <td>54.000000</td>\n",
       "      <td>54.000000</td>\n",
       "      <td>54.000000</td>\n",
       "      <td>54.000000</td>\n",
       "      <td>54.000000</td>\n",
       "      <td>...</td>\n",
       "      <td>54.000000</td>\n",
       "      <td>54.000000</td>\n",
       "      <td>54.000000</td>\n",
       "      <td>54.000000</td>\n",
       "      <td>54.000000</td>\n",
       "      <td>54.000000</td>\n",
       "      <td>54.000000</td>\n",
       "      <td>54.000000</td>\n",
       "      <td>54.000000</td>\n",
       "      <td>54.000000</td>\n",
       "    </tr>\n",
       "    <tr>\n",
       "      <th>mean</th>\n",
       "      <td>23.833333</td>\n",
       "      <td>7.925926</td>\n",
       "      <td>7.851852</td>\n",
       "      <td>7.87037</td>\n",
       "      <td>7.314815</td>\n",
       "      <td>7.648148</td>\n",
       "      <td>7.740741</td>\n",
       "      <td>7.759259</td>\n",
       "      <td>7.814815</td>\n",
       "      <td>7.722222</td>\n",
       "      <td>...</td>\n",
       "      <td>7.907407</td>\n",
       "      <td>7.722222</td>\n",
       "      <td>7.740741</td>\n",
       "      <td>7.851852</td>\n",
       "      <td>8.055556</td>\n",
       "      <td>7.888889</td>\n",
       "      <td>7.777778</td>\n",
       "      <td>7.962963</td>\n",
       "      <td>7.777778</td>\n",
       "      <td>7.748575</td>\n",
       "    </tr>\n",
       "    <tr>\n",
       "      <th>std</th>\n",
       "      <td>10.500225</td>\n",
       "      <td>2.346027</td>\n",
       "      <td>1.936807</td>\n",
       "      <td>2.29064</td>\n",
       "      <td>2.045004</td>\n",
       "      <td>1.750012</td>\n",
       "      <td>2.111828</td>\n",
       "      <td>2.073509</td>\n",
       "      <td>1.894123</td>\n",
       "      <td>1.816244</td>\n",
       "      <td>...</td>\n",
       "      <td>1.845632</td>\n",
       "      <td>2.342525</td>\n",
       "      <td>2.084853</td>\n",
       "      <td>2.285371</td>\n",
       "      <td>2.050464</td>\n",
       "      <td>2.408058</td>\n",
       "      <td>2.015662</td>\n",
       "      <td>1.902957</td>\n",
       "      <td>1.859871</td>\n",
       "      <td>1.397711</td>\n",
       "    </tr>\n",
       "    <tr>\n",
       "      <th>min</th>\n",
       "      <td>2.000000</td>\n",
       "      <td>1.000000</td>\n",
       "      <td>1.000000</td>\n",
       "      <td>1.00000</td>\n",
       "      <td>2.000000</td>\n",
       "      <td>2.000000</td>\n",
       "      <td>2.000000</td>\n",
       "      <td>1.000000</td>\n",
       "      <td>2.000000</td>\n",
       "      <td>3.000000</td>\n",
       "      <td>...</td>\n",
       "      <td>1.000000</td>\n",
       "      <td>1.000000</td>\n",
       "      <td>1.000000</td>\n",
       "      <td>1.000000</td>\n",
       "      <td>1.000000</td>\n",
       "      <td>1.000000</td>\n",
       "      <td>1.000000</td>\n",
       "      <td>3.000000</td>\n",
       "      <td>3.000000</td>\n",
       "      <td>2.653846</td>\n",
       "    </tr>\n",
       "    <tr>\n",
       "      <th>25%</th>\n",
       "      <td>19.000000</td>\n",
       "      <td>7.000000</td>\n",
       "      <td>7.000000</td>\n",
       "      <td>7.00000</td>\n",
       "      <td>6.000000</td>\n",
       "      <td>7.000000</td>\n",
       "      <td>7.000000</td>\n",
       "      <td>7.000000</td>\n",
       "      <td>7.000000</td>\n",
       "      <td>7.000000</td>\n",
       "      <td>...</td>\n",
       "      <td>7.000000</td>\n",
       "      <td>7.000000</td>\n",
       "      <td>7.000000</td>\n",
       "      <td>7.250000</td>\n",
       "      <td>8.000000</td>\n",
       "      <td>7.000000</td>\n",
       "      <td>7.000000</td>\n",
       "      <td>7.000000</td>\n",
       "      <td>7.000000</td>\n",
       "      <td>7.192308</td>\n",
       "    </tr>\n",
       "    <tr>\n",
       "      <th>50%</th>\n",
       "      <td>20.000000</td>\n",
       "      <td>9.000000</td>\n",
       "      <td>8.000000</td>\n",
       "      <td>9.00000</td>\n",
       "      <td>8.000000</td>\n",
       "      <td>8.000000</td>\n",
       "      <td>8.000000</td>\n",
       "      <td>8.000000</td>\n",
       "      <td>8.000000</td>\n",
       "      <td>8.000000</td>\n",
       "      <td>...</td>\n",
       "      <td>8.000000</td>\n",
       "      <td>8.000000</td>\n",
       "      <td>8.000000</td>\n",
       "      <td>8.000000</td>\n",
       "      <td>8.000000</td>\n",
       "      <td>9.000000</td>\n",
       "      <td>8.000000</td>\n",
       "      <td>8.000000</td>\n",
       "      <td>8.000000</td>\n",
       "      <td>7.807692</td>\n",
       "    </tr>\n",
       "    <tr>\n",
       "      <th>75%</th>\n",
       "      <td>21.000000</td>\n",
       "      <td>10.000000</td>\n",
       "      <td>9.000000</td>\n",
       "      <td>9.75000</td>\n",
       "      <td>9.000000</td>\n",
       "      <td>8.750000</td>\n",
       "      <td>9.000000</td>\n",
       "      <td>9.000000</td>\n",
       "      <td>9.000000</td>\n",
       "      <td>9.000000</td>\n",
       "      <td>...</td>\n",
       "      <td>9.000000</td>\n",
       "      <td>9.750000</td>\n",
       "      <td>9.000000</td>\n",
       "      <td>9.000000</td>\n",
       "      <td>9.000000</td>\n",
       "      <td>10.000000</td>\n",
       "      <td>9.000000</td>\n",
       "      <td>9.000000</td>\n",
       "      <td>9.000000</td>\n",
       "      <td>8.644231</td>\n",
       "    </tr>\n",
       "    <tr>\n",
       "      <th>max</th>\n",
       "      <td>53.000000</td>\n",
       "      <td>10.000000</td>\n",
       "      <td>10.000000</td>\n",
       "      <td>10.00000</td>\n",
       "      <td>10.000000</td>\n",
       "      <td>10.000000</td>\n",
       "      <td>10.000000</td>\n",
       "      <td>10.000000</td>\n",
       "      <td>10.000000</td>\n",
       "      <td>10.000000</td>\n",
       "      <td>...</td>\n",
       "      <td>10.000000</td>\n",
       "      <td>10.000000</td>\n",
       "      <td>10.000000</td>\n",
       "      <td>10.000000</td>\n",
       "      <td>10.000000</td>\n",
       "      <td>10.000000</td>\n",
       "      <td>10.000000</td>\n",
       "      <td>10.000000</td>\n",
       "      <td>10.000000</td>\n",
       "      <td>10.000000</td>\n",
       "    </tr>\n",
       "  </tbody>\n",
       "</table>\n",
       "<p>8 rows × 28 columns</p>\n",
       "</div>"
      ],
      "text/plain": [
       "             age         q1         q2        q3         q4         q5  \\\n",
       "count  54.000000  54.000000  54.000000  54.00000  54.000000  54.000000   \n",
       "mean   23.833333   7.925926   7.851852   7.87037   7.314815   7.648148   \n",
       "std    10.500225   2.346027   1.936807   2.29064   2.045004   1.750012   \n",
       "min     2.000000   1.000000   1.000000   1.00000   2.000000   2.000000   \n",
       "25%    19.000000   7.000000   7.000000   7.00000   6.000000   7.000000   \n",
       "50%    20.000000   9.000000   8.000000   9.00000   8.000000   8.000000   \n",
       "75%    21.000000  10.000000   9.000000   9.75000   9.000000   8.750000   \n",
       "max    53.000000  10.000000  10.000000  10.00000  10.000000  10.000000   \n",
       "\n",
       "              q6         q7         q8         q9  ...        q18        q19  \\\n",
       "count  54.000000  54.000000  54.000000  54.000000  ...  54.000000  54.000000   \n",
       "mean    7.740741   7.759259   7.814815   7.722222  ...   7.907407   7.722222   \n",
       "std     2.111828   2.073509   1.894123   1.816244  ...   1.845632   2.342525   \n",
       "min     2.000000   1.000000   2.000000   3.000000  ...   1.000000   1.000000   \n",
       "25%     7.000000   7.000000   7.000000   7.000000  ...   7.000000   7.000000   \n",
       "50%     8.000000   8.000000   8.000000   8.000000  ...   8.000000   8.000000   \n",
       "75%     9.000000   9.000000   9.000000   9.000000  ...   9.000000   9.750000   \n",
       "max    10.000000  10.000000  10.000000  10.000000  ...  10.000000  10.000000   \n",
       "\n",
       "             q20        q21        q22        q23        q24        q25  \\\n",
       "count  54.000000  54.000000  54.000000  54.000000  54.000000  54.000000   \n",
       "mean    7.740741   7.851852   8.055556   7.888889   7.777778   7.962963   \n",
       "std     2.084853   2.285371   2.050464   2.408058   2.015662   1.902957   \n",
       "min     1.000000   1.000000   1.000000   1.000000   1.000000   3.000000   \n",
       "25%     7.000000   7.250000   8.000000   7.000000   7.000000   7.000000   \n",
       "50%     8.000000   8.000000   8.000000   9.000000   8.000000   8.000000   \n",
       "75%     9.000000   9.000000   9.000000  10.000000   9.000000   9.000000   \n",
       "max    10.000000  10.000000  10.000000  10.000000  10.000000  10.000000   \n",
       "\n",
       "             q26  average rating given  \n",
       "count  54.000000             54.000000  \n",
       "mean    7.777778              7.748575  \n",
       "std     1.859871              1.397711  \n",
       "min     3.000000              2.653846  \n",
       "25%     7.000000              7.192308  \n",
       "50%     8.000000              7.807692  \n",
       "75%     9.000000              8.644231  \n",
       "max    10.000000             10.000000  \n",
       "\n",
       "[8 rows x 28 columns]"
      ]
     },
     "execution_count": 66,
     "metadata": {},
     "output_type": "execute_result"
    }
   ],
   "source": [
    "survey_df_grouped_by_platform.get_group(name='Mobile').describe()"
   ]
  },
  {
   "cell_type": "code",
   "execution_count": 147,
   "metadata": {},
   "outputs": [],
   "source": [
    "def plt_rating_given_for_each_question_by_platform():\n",
    "    plt.tight_layout()\n",
    "    plt.figure(figsize=(10.2, 9.1), dpi=80)\n",
    "\n",
    "    plt.barh(y=mean_by_platform.columns,width=mean_by_platform.loc['Desktop'])\n",
    "    plt.barh(y=mean_by_platform.columns,width=-mean_by_platform.loc['Mobile'])\n",
    "\n",
    "    plt.grid(axis='x')\n",
    "\n",
    "    plt.legend(('Desktop','Mobile'))"
   ]
  },
  {
   "cell_type": "markdown",
   "metadata": {},
   "source": [
    "We can see that generally, mobile version of the website was liked by user"
   ]
  },
  {
   "cell_type": "markdown",
   "metadata": {},
   "source": [
    "# Other Code"
   ]
  },
  {
   "cell_type": "code",
   "execution_count": 19,
   "metadata": {},
   "outputs": [
    {
     "data": {
      "text/plain": [
       "{'q1': 8.01,\n",
       " 'q2': 7.86,\n",
       " 'q3': 7.82,\n",
       " 'q4': 7.41,\n",
       " 'q5': 7.51,\n",
       " 'q6': 7.64,\n",
       " 'q7': 7.63,\n",
       " 'q8': 7.6,\n",
       " 'q9': 7.07,\n",
       " 'q10': 6.44,\n",
       " 'q11': 7.05,\n",
       " 'q12': 6.86,\n",
       " 'q13': 7.53,\n",
       " 'q14': 7.68,\n",
       " 'q15': 7.58,\n",
       " 'q16': 7.04,\n",
       " 'q17': 8.07,\n",
       " 'q18': 7.45,\n",
       " 'q19': 7.47,\n",
       " 'q20': 7.41,\n",
       " 'q21': 7.59,\n",
       " 'q22': 7.81,\n",
       " 'q23': 7.56,\n",
       " 'q24': 7.48,\n",
       " 'q25': 7.56,\n",
       " 'q26': 7.33}"
      ]
     },
     "execution_count": 19,
     "metadata": {},
     "output_type": "execute_result"
    }
   ],
   "source": [
    "# Outputs a dictionary of questions with their average scores.\n",
    "\n",
    "average_question_rating()"
   ]
  },
  {
   "cell_type": "code",
   "execution_count": 21,
   "metadata": {},
   "outputs": [
    {
     "data": {
      "text/plain": [
       "('q10', 6.44)"
      ]
     },
     "execution_count": 21,
     "metadata": {},
     "output_type": "execute_result"
    }
   ],
   "source": [
    "# Question with lowest average score is q10.\n",
    "\n",
    "ascending_average_question_rating()[0]"
   ]
  },
  {
   "cell_type": "code",
   "execution_count": 22,
   "metadata": {},
   "outputs": [
    {
     "data": {
      "text/plain": [
       "('q17', 8.07)"
      ]
     },
     "execution_count": 22,
     "metadata": {},
     "output_type": "execute_result"
    }
   ],
   "source": [
    "# Question with highest average score is q17.\n",
    "\n",
    "ascending_average_question_rating()[-1]"
   ]
  },
  {
   "cell_type": "code",
   "execution_count": 46,
   "metadata": {},
   "outputs": [
    {
     "data": {
      "text/plain": [
       "[('q10', 6.29),\n",
       " ('q12', 6.67),\n",
       " ('q16', 6.69),\n",
       " ('q9', 6.73),\n",
       " ('q11', 6.82),\n",
       " ('q24', 6.96),\n",
       " ('q26', 6.98),\n",
       " ('q23', 7.24),\n",
       " ('q20', 7.27),\n",
       " ('q25', 7.27),\n",
       " ('q15', 7.31),\n",
       " ('q19', 7.33),\n",
       " ('q8', 7.38),\n",
       " ('q21', 7.38),\n",
       " ('q6', 7.42),\n",
       " ('q14', 7.44),\n",
       " ('q5', 7.47),\n",
       " ('q18', 7.47),\n",
       " ('q4', 7.51),\n",
       " ('q7', 7.53),\n",
       " ('q13', 7.64),\n",
       " ('q22', 7.64),\n",
       " ('q3', 7.76),\n",
       " ('q17', 7.93),\n",
       " ('q2', 8.07),\n",
       " ('q1', 8.09)]"
      ]
     },
     "execution_count": 46,
     "metadata": {},
     "output_type": "execute_result"
    }
   ],
   "source": [
    "# Outputs a list of 2-tuples of the form (question, average score) ascending in average score using data \n",
    "# from male users only.\n",
    "\n",
    "ascending_average_gender_question_rating('male')"
   ]
  },
  {
   "cell_type": "code",
   "execution_count": 27,
   "metadata": {},
   "outputs": [
    {
     "data": {
      "text/plain": [
       "('q10', 6.29)"
      ]
     },
     "execution_count": 27,
     "metadata": {},
     "output_type": "execute_result"
    }
   ],
   "source": [
    "# For male users the question with the lowest average rating is q10.\n",
    "\n",
    "ascending_average_gender_question_rating('male')[0]"
   ]
  },
  {
   "cell_type": "code",
   "execution_count": 28,
   "metadata": {},
   "outputs": [
    {
     "data": {
      "text/plain": [
       "('q1', 8.09)"
      ]
     },
     "execution_count": 28,
     "metadata": {},
     "output_type": "execute_result"
    }
   ],
   "source": [
    "# For male users the question with the highest average rating is q1.\n",
    "\n",
    "ascending_average_gender_question_rating('male')[-1]"
   ]
  },
  {
   "cell_type": "code",
   "execution_count": 29,
   "metadata": {},
   "outputs": [
    {
     "data": {
      "text/plain": [
       "[('q10', 6.69),\n",
       " ('q12', 7.31),\n",
       " ('q4', 7.35),\n",
       " ('q13', 7.46),\n",
       " ('q11', 7.54),\n",
       " ('q2', 7.62),\n",
       " ('q18', 7.65),\n",
       " ('q5', 7.69),\n",
       " ('q9', 7.77),\n",
       " ('q16', 7.77),\n",
       " ('q20', 7.77),\n",
       " ('q19', 7.85),\n",
       " ('q7', 7.92),\n",
       " ('q1', 8.0),\n",
       " ('q26', 8.0),\n",
       " ('q3', 8.04),\n",
       " ('q6', 8.15),\n",
       " ('q8', 8.15),\n",
       " ('q14', 8.15),\n",
       " ('q21', 8.15),\n",
       " ('q23', 8.19),\n",
       " ('q25', 8.19),\n",
       " ('q15', 8.23),\n",
       " ('q22', 8.23),\n",
       " ('q24', 8.5),\n",
       " ('q17', 8.54)]"
      ]
     },
     "execution_count": 29,
     "metadata": {},
     "output_type": "execute_result"
    }
   ],
   "source": [
    "# Outputs a list of 2-tuples of the form (question, average score) ascending in average score using data \n",
    "# from female users only.\n",
    "\n",
    "ascending_average_gender_question_rating('female')"
   ]
  },
  {
   "cell_type": "code",
   "execution_count": 30,
   "metadata": {},
   "outputs": [
    {
     "data": {
      "text/plain": [
       "('q10', 6.69)"
      ]
     },
     "execution_count": 30,
     "metadata": {},
     "output_type": "execute_result"
    }
   ],
   "source": [
    "# For female users the question with the lowest average rating is q10.\n",
    "\n",
    "ascending_average_gender_question_rating('female')[0]"
   ]
  },
  {
   "cell_type": "code",
   "execution_count": 31,
   "metadata": {},
   "outputs": [
    {
     "data": {
      "text/plain": [
       "('q17', 8.54)"
      ]
     },
     "execution_count": 31,
     "metadata": {},
     "output_type": "execute_result"
    }
   ],
   "source": [
    "# For female users the question with the highest average rating is q17.\n",
    "\n",
    "ascending_average_gender_question_rating('female')[-1]"
   ]
  },
  {
   "cell_type": "markdown",
   "metadata": {},
   "source": [
    "# Project Outcome (10 + 10 marks)\n",
    "\n",
    "_This section should describe the outcome of the project by means of both explanation of the results and by graphical visualisation in the form of graphs, charts or or other kinds of diagram_\n",
    "\n",
    "_The section should begin with a general overview of the results and then have a section for each of the project objectives. For each of these objectives an explanation of more specific results relating to that objective shoud be given, followed by a section presenting some visualisation of the results obtained. (In the case where\n",
    "the project had just one objective, you should still have a section describing\n",
    "the results from a general perspective followed by a section that focuses on\n",
    "the particular objective.)_\n",
    "\n",
    "_The marks for this section will be divided into 10 marks for Explanation\n",
    "and 10 marks for Visualisation. These marks will be awarded for the Project Outcome\n",
    "section as a whole, not for each objective individually. Hence, you do not\n",
    "have to pay equal attention to each. However, you are expected to have a\n",
    "some explanation and visualisation for each. It is suggested you have\n",
    "200-400 words explanation for each objective._"
   ]
  },
  {
   "cell_type": "markdown",
   "metadata": {
    "slideshow": {
     "slide_type": "fragment"
    }
   },
   "source": [
    "## Overview of Results\n",
    "_Give a general overview of the results (around 200 words)._"
   ]
  },
  {
   "cell_type": "markdown",
   "metadata": {},
   "source": [
    "## Objective 1: Overall Analysis\n",
    "\n",
    "### Explanation of Results\n",
    "\n",
    "One of our objectives was to identify the best and worst website features and if these changed depending on the gender of the user. We decided to rank website features based on their average question score. Website features with a higher average question score were deemed to be better than those with a lower average question score. \n",
    "\n",
    "Figure 1 shows most people gave average ratings over 8. This suggests that overall, people are satisfied with the website.\n",
    "\n",
    "Figure 2 allows us to visualise which questions recieved the best, and which questions recieved the worst overall feedback. Question 10 (q10) has the lowest average score with an average score of 6.44, indicating that the website may benefit from offering more customisation to the user. Question 12 (q12) has the second lowest average score with an average score of 6.86, suggesting that the website should aim to tailor more content to the individual. Question 17 (q17) had the highest average score with an average score of 8.07, indicating that the website is easy to learn how to use. Question 1 (q1) had the second highest average score with an average score of 8.01, suggesting that the current font type and size of the text used on the website is suitable.\n",
    "\n",
    "\n",
    "### Visualisation\n"
   ]
  },
  {
   "cell_type": "markdown",
   "metadata": {},
   "source": [
    "### Figure 1: Average ratings each user gave to the survey questions"
   ]
  },
  {
   "cell_type": "code",
   "execution_count": 124,
   "metadata": {},
   "outputs": [
    {
     "data": {
      "image/png": "[encoded data removed]",
      "text/plain": [
       "<Figure size 432x288 with 1 Axes>"
      ]
     },
     "metadata": {
      "needs_background": "light"
     },
     "output_type": "display_data"
    }
   ],
   "source": [
    "plt_average_user_rating()"
   ]
  },
  {
   "cell_type": "markdown",
   "metadata": {},
   "source": [
    "### Figure 2: Average rating given to each question in the survey"
   ]
  },
  {
   "cell_type": "code",
   "execution_count": 74,
   "metadata": {},
   "outputs": [
    {
     "data": {
      "image/png": "[encoded data removed]",
      "text/plain": [
       "<Figure size 1152x360 with 1 Axes>"
      ]
     },
     "metadata": {
      "needs_background": "light"
     },
     "output_type": "display_data"
    }
   ],
   "source": [
    "plot_average_question_rating()"
   ]
  },
  {
   "cell_type": "markdown",
   "metadata": {},
   "source": [
    "## Objective 2: Gender Analysis\n",
    "### Explanation of Results\n",
    "\n",
    "Figure 3 shows that the number of male survey participants outweighs the number of female participants. This either suggests that men are more likely to complete online survey than women, or that the website which this survey was conducted on has more male traffic than female.\n",
    "\n",
    "Figure 4 shows that, on average, female have given an overall slightly higher score to the survey questions than men.\n",
    "\n",
    "Figure 5 obtains the average question scores for each gender. Note that we did not consider the average question scores for the 'other' gender as there were only two users with this gender, which is an insufficient sample size from which to draw conclusions. For both males and females, q10 and q12 had the lowest and second lowest average scores respectively so gender does not seem to influence opinions on the worst features of the website. However, males and females did have different opinions on the best features of the website. For males, q1 and q2 had the highest and second highest average scores respectively, suggesting that the website's font type, font size and font colour appeals to a masculine audience. Whereas, for females the highest and second highest average scores were for q17 and q24 respectively, indicating that female users generally find the website easier to learn how to use and deem the website to be more credible.\n",
    "\n",
    "### Visualisation"
   ]
  },
  {
   "cell_type": "markdown",
   "metadata": {},
   "source": [
    "### Figure 3: Number of Male vs Female Participants"
   ]
  },
  {
   "cell_type": "code",
   "execution_count": 140,
   "metadata": {},
   "outputs": [
    {
     "data": {
      "image/png": "[encoded data removed]",
      "text/plain": [
       "<Figure size 432x288 with 1 Axes>"
      ]
     },
     "metadata": {},
     "output_type": "display_data"
    }
   ],
   "source": [
    "plot_number_of_gender()"
   ]
  },
  {
   "cell_type": "markdown",
   "metadata": {},
   "source": [
    "### Figure 4: Average rating give by males vs females"
   ]
  },
  {
   "cell_type": "code",
   "execution_count": 125,
   "metadata": {},
   "outputs": [
    {
     "data": {
      "image/png": "[encoded data removed]",
      "text/plain": [
       "<Figure size 432x288 with 1 Axes>"
      ]
     },
     "metadata": {
      "needs_background": "light"
     },
     "output_type": "display_data"
    }
   ],
   "source": [
    "plt_average_rating_for_gender()"
   ]
  },
  {
   "cell_type": "markdown",
   "metadata": {},
   "source": [
    "### Figure 5: Average rating given to each question in the survey"
   ]
  },
  {
   "cell_type": "code",
   "execution_count": 97,
   "metadata": {},
   "outputs": [
    {
     "data": {
      "image/png": "[encoded data removed]",
      "text/plain": [
       "<Figure size 1152x360 with 1 Axes>"
      ]
     },
     "metadata": {
      "needs_background": "light"
     },
     "output_type": "display_data"
    }
   ],
   "source": [
    "plt_average_gender_question_rating()"
   ]
  },
  {
   "cell_type": "markdown",
   "metadata": {},
   "source": [
    "## Objective 3\n",
    "### Explanation of Results\n",
    "\n",
    "The following graphs show us that on average, people in the age range of 11-20 are on the internet, and more importantly, took the time to fill out this survey. It is important to note however, that mobile phone usage was through the roof compared to desktop usage. As technology progressed, there stopped being a necessity for teens and young adults to be planted in front of a home desktop computer to browse the internet. If one looks at the 31-40 age bracket, you see that desktop use is overwhelmingly more popular than mobile phone usage. This generation grew up with technology and home computers becoming normalized and had to learn it along with the rest of the world. Perhaps this indicates the result that desktops would be more popular in this age range. Overall, we see that age does in some way play a factor in the platform preferred by users. Familiarity is one of our theories on age playing a part in this particular section of the study. Teens and young adults are used to mobile phones and some grew up exclusively using iPad’s and iPhone’s, while the older generations either grew up using desktop computers or where alive when the first consumer grade computer was released. Regardless of what their reason may be, it is undoubted that age has played a role in this selection.\n",
    "\n",
    "Looking below at the chart in red, we see the average rating measured in terms of age range. Again, we see a lead in the 11-20 age range, as we believe this particular group seems to be the primary user base on the internet. On average, we see lower scores the older one gets, which could perhaps indicate hardship while using this certain website. \n",
    "\n",
    "\n",
    "### Visualisation\n",
    "\n",
    "The bar charts in blue illustrates the platforms people were on while taking this online survey, measured by age group. The top one shows desktop usage and the bottom shows mobile device.\n",
    "\n",
    "The bar chart in red averages the answers given in each question and shows us the average score that each age group answered. "
   ]
  },
  {
   "cell_type": "code",
   "execution_count": 121,
   "metadata": {},
   "outputs": [
    {
     "data": {
      "image/png": "[encoded data removed]",
      "text/plain": [
       "<Figure size 432x288 with 1 Axes>"
      ]
     },
     "metadata": {
      "needs_background": "light"
     },
     "output_type": "display_data"
    }
   ],
   "source": [
    "platformByAge()"
   ]
  },
  {
   "cell_type": "code",
   "execution_count": 123,
   "metadata": {},
   "outputs": [
    {
     "data": {
      "image/png": "[encoded data removed]",
      "text/plain": [
       "<Figure size 432x288 with 1 Axes>"
      ]
     },
     "metadata": {
      "needs_background": "light"
     },
     "output_type": "display_data"
    },
    {
     "name": "stdout",
     "output_type": "stream",
     "text": [
      "[(1, 10, 6.88), (1, 10, 6.88), (1, 10, 6.88), (1, 10, 6.88), (11, 20, 7.86), (11, 20, 7.86), (11, 20, 7.86), (11, 20, 7.86), (11, 20, 7.86), (11, 20, 7.86), (11, 20, 7.86), (11, 20, 7.86), (11, 20, 7.86), (11, 20, 7.86), (11, 20, 7.86), (11, 20, 7.86), (11, 20, 7.86), (11, 20, 7.86), (11, 20, 7.86), (11, 20, 7.86), (11, 20, 7.86), (11, 20, 7.86), (11, 20, 7.86), (11, 20, 7.86), (11, 20, 7.86), (11, 20, 7.86), (11, 20, 7.86), (11, 20, 7.86), (21, 30, 7.54), (21, 30, 7.54), (21, 30, 7.54), (21, 30, 7.54), (21, 30, 7.54), (21, 30, 7.54), (21, 30, 7.54), (21, 30, 7.54), (21, 30, 7.54), (21, 30, 7.54), (21, 30, 7.54), (21, 30, 7.54), (21, 30, 7.54), (21, 30, 7.54), (21, 30, 7.54), (21, 30, 7.54), (21, 30, 7.54), (31, 40, 6.41), (31, 40, 6.41), (31, 40, 6.41), (31, 40, 6.41), (31, 40, 6.41), (41, 50, 6.55), (41, 50, 6.55), (41, 50, 6.55), (41, 50, 6.55), (41, 50, 6.55), (41, 50, 6.55), (41, 50, 6.55), (41, 50, 6.55), (51, 60, 7.57), (51, 60, 7.57), (51, 60, 7.57), (51, 60, 7.57)]\n"
     ]
    }
   ],
   "source": [
    "print(AvgVAge())"
   ]
  },
  {
   "cell_type": "markdown",
   "metadata": {},
   "source": [
    "## Objective 4: Platform Analysis \n",
    "### Explanation of Results\n",
    "\n",
    "By drawing the butterfly chart using mean score of desktop version website users and mobile version website users, we can notice that feedback are almost the same for both website version in terms of typography, color, content/information quality.\n",
    "\n",
    "\n",
    "\n",
    "However, for a series of questions related to interactivity, navigation, satisfaction, trust and loyalty, it suggests that mobile version of website is providing better experience in these aspect than desktop version according to the data.\n",
    "\n",
    "\n",
    "\n",
    "For example, question 9, which is asking if the website provides adequate feedback to assess users’ progression when they perform a task, differs a lot.\n",
    "\n",
    "\n",
    "\n",
    "Such a result may have been affected by the unbalanced number of people participated in the survey considering the fact that the amount of feedback collected on mobile version users is 5 times larger than desktop version users. There could also be reason like mobile devices are more interactive than desktop in nature and are used by more and more people nowadays.\n",
    "\n",
    "### Visualisation"
   ]
  },
  {
   "cell_type": "code",
   "execution_count": 148,
   "metadata": {},
   "outputs": [
    {
     "data": {
      "text/plain": [
       "<Figure size 432x288 with 0 Axes>"
      ]
     },
     "metadata": {},
     "output_type": "display_data"
    },
    {
     "data": {
      "image/png": "[encoded data removed]",
      "text/plain": [
       "<Figure size 816x728 with 1 Axes>"
      ]
     },
     "metadata": {
      "needs_background": "light"
     },
     "output_type": "display_data"
    }
   ],
   "source": [
    "plt_rating_given_for_each_question_by_platform()"
   ]
  },
  {
   "cell_type": "markdown",
   "metadata": {},
   "source": [
    "# Conclusion (5 marks)\n",
    "\n",
    "_Your concluding section should be around 200-400 words. It is recommended\n",
    "that you divide it into the following sections._\n",
    "\n",
    "\n",
    "Achievements \n",
    "\n",
    "Gender does not seem to influence the user's opinion of the worst website features, but it does impact the user's opinion of the best website features. Since customisation and personalised content were identified as the worst website features then the e-commerce company should consider investing in software that improves these website features. For example, the implementation of cookies would enable them to suggest products to users based on their previous searches or purchases. Compared to female users, male users found the text on the website easier to read and more appealing. Therefore, the website may benefit from using a gender-neutral font style and colour that increases the readability and appeal of the text for female users. \n",
    "\n",
    " \n",
    "\n",
    "Limitations \n",
    "\n",
    "We completed our analysis using a small sample of 73 website users thus our findings may not be representative of the entire user population. Furthermore, the sample consisted of 45 males and only 26 females so our general conclusions may be biased toward the opinion of male users. \n",
    "\n",
    " \n",
    "\n",
    "Future Work \n",
    "\n",
    "In future work, we wish to analyse data from a website satisfaction survey that has thousands of participants so that our conclusions are more accurate and therefore more useful to the company to which the website belongs. Ideally, we would like this large set of survey data to have a roughly equal number of male and female participants in order to prevent bias toward the opinion of male or female users \n",
    "\n",
    " \n",
    "\n",
    "\n",
    "### Achievements\n",
    "_As we had expected, the most popular fridge magnets were of the 'meme' kind.\n",
    "We were surprised that 'smiley' fridge magnets were less common than expected.\n",
    "We conjecture that this is because, although they are apparently very popular,\n",
    "few fridges display more than one smiley. However, 'meme' based magnets can\n",
    "be found in large numbers, even on quite small fridges._\n",
    "\n",
    "### Limitations\n",
    "\n",
    "_The project was limited to a small number of fridge magents, which may not be\n",
    "typical of fridges found in the global fridge magnet ecosystem._\n",
    "\n",
    "### Future Work\n",
    "\n",
    "_In future work we would like to obtain more diverse data and study fridge magnets \n",
    "beyond the limited confines of student accomodation. We hypothesise that there\n",
    "could be a link between fridge magnet types and social class and/or educational\n",
    "achievement._"
   ]
  },
  {
   "cell_type": "code",
   "execution_count": null,
   "metadata": {},
   "outputs": [],
   "source": []
  }
 ],
 "metadata": {
  "kernelspec": {
   "display_name": "Python 3",
   "language": "python",
   "name": "python3"
  },
  "language_info": {
   "codemirror_mode": {
    "name": "ipython",
    "version": 3
   },
   "file_extension": ".py",
   "mimetype": "text/x-python",
   "name": "python",
   "nbconvert_exporter": "python",
   "pygments_lexer": "ipython3",
   "version": "3.6.13"
  }
 },
 "nbformat": 4,
 "nbformat_minor": 4
}
