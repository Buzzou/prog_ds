{
 "cells": [
  {
   "cell_type": "markdown",
   "metadata": {},
   "source": [
    "## COMP5721M: Programming for Data Science \n",
    "\n",
    "## Coursework 3: Data Analysis Project\n",
    "\n",
    "\n",
    "# _Project Title_\n",
    "\n",
    "\n",
    "_Give names and emails of group members here:_\n",
    "\n",
    "* _Matthew_, _sc22mf_@leeds.ac.uk\n",
    "* _Alex_, _fy18aol_@leeds.ac.uk\n",
    "* _NameC_, _usernameC_@leeds.ac.uk\n",
    "* _NameD_, _usernameD_@leeds.ac.uk"
   ]
  },
  {
   "cell_type": "markdown",
   "source": [
    "# Project Requirements\n",
    "_PLEASE DELETE THIS WHOLE CELL BEFORE SUBMITTING YOUR PROJECT_\n",
    "\n",
    "The purpose of this assignment is to develop your skills\n",
    "in organising and presenting a Data Science project.\n",
    "\n",
    "Since most of the marks will be awarded for organisation\n",
    "and presentation, it is suggested that you do not initially attempt\n",
    "anything too complicated. However, once you have managed\n",
    "to get a basic pipeline working that fits the guidelines,\n",
    "you are encouraged to extend and elaborate your analysis.\n",
    "\n",
    "Your project should entirely be contained within this template file.\n",
    "You should keep the basic structure indicated below. To facilitate\n",
    "grading according to the marking scheme.\n",
    "\n",
    "You _may_ import any module that is provided with Anaconda3 Python.\n",
    "\n",
    "\n",
    "### Marking Scheme\n",
    "\n",
    "The marking scheme  is as follows:\n",
    "\n",
    "* Project Plan:\n",
    "    * Description of data to be used (10) <- Adam & Matt\n",
    "    * Overview of Project Aims  (5) <- Alex\n",
    "    * Design  (5) <- Ruohao\n",
    "\n",
    "* Program Code: (15)<br>\n",
    "    Code should be laid out in steps with explanations\n",
    "    and intemediate output with comments.\n",
    "    You should ensure that the steps do not require\n",
    "    a large amout of processing time.\n",
    "\n",
    "* Project Outcome:\n",
    "    * Explanation of Results (10)<br>\n",
    "        This should include a qualitative describtion\n",
    "        of the results as well as key figures and tables\n",
    "        of results.\n",
    "    * Results visualisation (10)<br>\n",
    "        This should be graphical representations of the\n",
    "        results with brief explanations (ordinary tables will be\n",
    "        graded as part of the explanation of results)\n",
    "    * Conclusion (5)\n",
    "\n",
    "### Data Resources\n",
    "\n",
    "You can use any data you like. Many useful resources are available.\n",
    "\n",
    "The Data Resources section of the module (Unit 4.3 on Minerva) has links to several example data sets.\n",
    "\n",
    "As a starting point you could browse the following:\n",
    "* [Kaggle](https://www.kaggle.com/)\n",
    "* [Our World in Data](https://ourworldindata.org/)\n",
    "* [scikit-learn datasets](https://scikit-learn.org/stable/datasets.html)\n",
    "* [scikit-learn tutorial](https://scikit-learn.org/stable/tutorial/basic/tutorial.html)\n",
    "\n",
    "\n",
    "\n",
    "\n",
    "### Using this Notebook Template\n",
    "Please use this notebook as a template for your project file.\n",
    "In the following cells of the notebook, _italic text_ giving explanations\n",
    "and examples should be either deleted, or, in most cases, replaced by appropriate text describing your project.\n",
    "Text that is not in italic (which is mostly headings) should\n",
    "be left as it is. __Your project report notebook should the same overall\n",
    "structure as this templete notebook.__\n",
    "An exception to this is the current markup cell describing the project\n",
    "requiements. You should delete this before submitting your notebook."
   ],
   "metadata": {
    "collapsed": false
   }
  },
  {
   "cell_type": "markdown",
   "source": [
    "# Project Plan\n",
    "\n",
    "## The Data (10 marks)\n",
    "\n",
    "_Here you should describe the data indluding details of:\n",
    "where it comes from, what data it contains, is it accurate. (Potentially you could create data from a simulation but you should still explain why and how you intend to generate this data.)_\n",
    "\n",
    "_It can be just one dataset or several that can be combined\n",
    "somehow._\n",
    "\n",
    "_There are 10 marks for this, so a fairly detailed description\n",
    "of the data is expected (around 300-400 words)_\n",
    "\n",
    "\n",
    "\n",
    "## Project Aim and Objectives (5 marks)\n",
    "\n",
    "_Here you should describe the general aim of your project in\n",
    "around 200-300 words._\n",
    "\n",
    "_This can can be anything from classifying items according to\n",
    "their characteristic features (which mushrooms are poisonous?)\n",
    "to simulating an evolving process (will the rabbits eat all\n",
    "the carrots or get eaten by the foxes?)_\n",
    "\n",
    "_Here some ideas of general types of processing functionality\n",
    "that you could implement:_\n",
    "\n",
    "* _Classification: separate data items into classes according\n",
    "  to their charactersitics (can be either a definite or a\n",
    "  statistical kind of classification)_\n",
    "* _Corellation: find correspondences between different attributes within\n",
    "  a dataset_\n",
    "* _Search: find solutions matching some criteria_\n",
    "* _Visualisation: find informative ways to\n",
    "  display the structure of a large and/or complex dataset_\n",
    "* _Query Answering: create a system that enables one to retrieve information by evaluating some form of query representation_\n",
    "* _Simulation: model the evolution of a complex process_\n",
    "\n",
    "### Specific Objective(s)\n",
    "\n",
    "_You should chose and list __up to 4__ specific objectives suited to the data you will be working with and the type of project you wish to carry out.\n",
    "There should be <b>at least one\n",
    "per person doing the project</b>. There is no need\n",
    "for  the objectives them to be completely different.\n",
    "They could be different\n",
    "stages of the processing requirements, or different processing\n",
    "functions that the system  provides. Or just\n",
    "different aspects of data analysis that will be conducted.\n",
    "Typically, it is expected that there would be one objective\n",
    "per person. Replace the following examples with your own objectives:_\n",
    "\n",
    "* __Objective 1:__ _Write a dataframe using the data_ <- Alex\n",
    "* __Objective 2:__ _Avergage each section_ <- Matt _Average all sections_ <- Adam _Average vs platform <-Ruohao / age <-Alex/ gender <-Matt_ _\n",
    "* __Objective 3:__ _matplotlib_ <- whatever you've programmed, you graph\n",
    "* __Objective 4:__ _sklearn_ <- later\n",
    "\n",
    "## System Design (5 marks)\n",
    "\n",
    "_Describe your code in terms of the\n",
    "following two sections._\n",
    "\n",
    "### Architecture\n",
    "\n",
    "_Typically this would be  a pipeline in which data goes through several\n",
    "stages of transformation and analysis, but other architectures are possible.\n",
    "This does not need to be particularly complicated. A simple diagram with\n",
    "100-150 words of explanation would\n",
    "be a good way to present your architecture._\n",
    "\n",
    "### Processing Modules and Algorithms\n",
    "\n",
    "_Briefly list and describe the most significant computational components of your system and the algorithms you will use to implement them.\n",
    "This could include things like:_\n",
    "\n",
    "* _cleaning the data by removing outliers_\n",
    "* _combining different datasets_\n",
    "* _converting samples to a special representaion (such as feature vectors)_\n",
    "* _constructing a special data-structure (such as a decision tree)_\n",
    "* _running some kind of analysis_\n",
    "\n",
    "_Your list can be presented in similar form to the one just given,\n",
    "but should include a brief\n",
    "but more specific description of the components and/or algorithms.\n",
    "Probably three or four components is sufficient for most projects, but\n",
    "you may want to have more._"
   ],
   "metadata": {
    "collapsed": false
   }
  },
  {
   "cell_type": "markdown",
   "source": [
    "Project Aim - Alex\n",
    "\n",
    "We aim to determine the impact of certain human demographics on the individual’s satisfaction while using a website. We look to quantify if there is a correlation or any reason to why someone may have answered the way they did on this survey. We look at metrics such as age, gender, device platform, and language as our key evaluating demographics. We then are able to analyze this data using pandas data frames to efficiently sort through the answers to the survey. For instance, question 1 states, “It is easy to read the text on this website with the used font type and size.” The individual then answers on a scale of 1-10. A metric we are interested for this question is if age has any factor on the answers to this question. To what extent does age play a role in eyesight, or the appeal of certain font types or sizes. Or, does age have nothing to do with it, and is it rather a question of male vs. female interests.\n",
    "In this project we will address questions such as these and hope to use pandas to clean and sift through the data. We will then be using matplotlib to graph some of the more interesting discoveries we make.\n"
   ],
   "metadata": {
    "collapsed": false
   }
  },
  {
   "cell_type": "markdown",
   "source": [
    "# Program Code (15 marks)\n",
    "\n",
    "_Your code should be divided into relatively short cells, with brief\n",
    "explanation in markup cells between._\n",
    "\n",
    "_As noted in the assigment overview, it is not necessary that your coding be\n",
    "super complex in order to get a good mark. Although there is a mark for\n",
    "the coding achievement, it is only a quarter of the total._\n",
    "\n",
    "_The suggested length of the code is about 150 lines for 1 person or 500\n",
    "for a 4 peope project. You should not use more than 500 lines of code._\n",
    "\n",
    "_You should divide the code in accordance with the specification of modules and/or\n",
    "algorithms you gave in the previous section. Complex modules should be further\n",
    "divided into several code cells._\n",
    "\n",
    "Please note the following about your code:\n",
    "* <b><i>You may import any packages/modules you wish to use for your project.</i></b>\n",
    "\n",
    "\n",
    "* <b><i>You should submit your notebook in a state where all cells have been\n",
    "    executed and are displaying the output that you wish to present for grading.</i></b>\n",
    "    (We will not normally run your code, unless for some reason we wish to check\n",
    "    that the code functionality matches the given description.)\n",
    "\n",
    "\n",
    "* Although you may be programming in a \"pipeline\" style, it is strongly suggested you use function definitions to organise your code. As well as being generally good programming practice, it will be helpful for easy and flexibily presentation of results visualisations later in the document. In the visualisation sections you will be able to produce images in a concise and flexible way by calling functions defined in the program code secion."
   ],
   "metadata": {
    "collapsed": false
   }
  },
  {
   "cell_type": "markdown",
   "source": [
    "## Importing data\n",
    "\n",
    "Since fridge magnets often take the form of cute animals, we use `pandas` to convert the raw data into a `DataFrame`."
   ],
   "metadata": {
    "collapsed": false
   }
  },
  {
   "cell_type": "code",
   "execution_count": 1,
   "outputs": [
    {
     "data": {
      "text/plain": "                                 user_id language platform  gender  age  q1  \\\n0   080c468b-27c0-455c-aa63-b8f807f2e3d7       en  Desktop    male   34   9   \n1   0b0379c7-04db-4c85-84bd-a2bd55329e29       en   Mobile  female   19  10   \n2   0e623280-b28b-4d4a-8eea-0732f09ed497       en   Mobile  female   19  10   \n3   045dc0f3-a730-4d03-a615-f51814e5b04f       en   Mobile    male   21   5   \n4   092f2ee7-5281-4a09-9bce-e5523b95b53b       en      NaN  female   53   9   \n..                                   ...      ...      ...     ...  ...  ..   \n68  cb71d11a-4e8d-4ab8-80be-ac1f46f5b2d1       en      NaN    male    1   9   \n69  cd3dad39-da3f-4ada-9e09-a9832ca7bdd7       en   Mobile    male   21   8   \n70  f3b94dcb-2dde-48d7-968d-606fcddd692d       en  Desktop    male   46  10   \n71  ddbc5616-edb8-4052-9186-6e105e4491f6       en   Mobile    male   20  10   \n72  a7788435-7465-4f4d-9f4f-d412db68b295       en   Mobile  female   18   1   \n\n    q2  q3  q4  q5  ...  q17  q18  q19  q20  q21  q22  q23  q24  q25  q26  \n0    7   6   6   7  ...    8    4    6    5    6    6    5    2    5    3  \n1   10  10   9  10  ...   10   10   10   10   10   10   10   10    9    8  \n2   10  10  10  10  ...    9    8   10   10   10   10    9    9    8    8  \n3    8   5   5   5  ...    7    9   10    8    8   10   10    8   10    6  \n4   10   9  10   9  ...    7    8    8    8    9    9   10   10   10   10  \n..  ..  ..  ..  ..  ...  ...  ...  ...  ...  ...  ...  ...  ...  ...  ...  \n68   9   9   9   7  ...    9    6    7    8    8    9    5    5    7    5  \n69   9  10   9   8  ...   10    8   10    9    9    8    6    7    8    6  \n70   6  10   6   6  ...    5    8    6    5    8    6    1    1    1    1  \n71  10  10  10  10  ...   10   10   10   10   10   10   10   10   10   10  \n72   1   1   2   2  ...    9    9    8    7    5    7   10   10    6   10  \n\n[73 rows x 31 columns]",
      "text/html": "<div>\n<style scoped>\n    .dataframe tbody tr th:only-of-type {\n        vertical-align: middle;\n    }\n\n    .dataframe tbody tr th {\n        vertical-align: top;\n    }\n\n    .dataframe thead th {\n        text-align: right;\n    }\n</style>\n<table border=\"1\" class=\"dataframe\">\n  <thead>\n    <tr style=\"text-align: right;\">\n      <th></th>\n      <th>user_id</th>\n      <th>language</th>\n      <th>platform</th>\n      <th>gender</th>\n      <th>age</th>\n      <th>q1</th>\n      <th>q2</th>\n      <th>q3</th>\n      <th>q4</th>\n      <th>q5</th>\n      <th>...</th>\n      <th>q17</th>\n      <th>q18</th>\n      <th>q19</th>\n      <th>q20</th>\n      <th>q21</th>\n      <th>q22</th>\n      <th>q23</th>\n      <th>q24</th>\n      <th>q25</th>\n      <th>q26</th>\n    </tr>\n  </thead>\n  <tbody>\n    <tr>\n      <th>0</th>\n      <td>080c468b-27c0-455c-aa63-b8f807f2e3d7</td>\n      <td>en</td>\n      <td>Desktop</td>\n      <td>male</td>\n      <td>34</td>\n      <td>9</td>\n      <td>7</td>\n      <td>6</td>\n      <td>6</td>\n      <td>7</td>\n      <td>...</td>\n      <td>8</td>\n      <td>4</td>\n      <td>6</td>\n      <td>5</td>\n      <td>6</td>\n      <td>6</td>\n      <td>5</td>\n      <td>2</td>\n      <td>5</td>\n      <td>3</td>\n    </tr>\n    <tr>\n      <th>1</th>\n      <td>0b0379c7-04db-4c85-84bd-a2bd55329e29</td>\n      <td>en</td>\n      <td>Mobile</td>\n      <td>female</td>\n      <td>19</td>\n      <td>10</td>\n      <td>10</td>\n      <td>10</td>\n      <td>9</td>\n      <td>10</td>\n      <td>...</td>\n      <td>10</td>\n      <td>10</td>\n      <td>10</td>\n      <td>10</td>\n      <td>10</td>\n      <td>10</td>\n      <td>10</td>\n      <td>10</td>\n      <td>9</td>\n      <td>8</td>\n    </tr>\n    <tr>\n      <th>2</th>\n      <td>0e623280-b28b-4d4a-8eea-0732f09ed497</td>\n      <td>en</td>\n      <td>Mobile</td>\n      <td>female</td>\n      <td>19</td>\n      <td>10</td>\n      <td>10</td>\n      <td>10</td>\n      <td>10</td>\n      <td>10</td>\n      <td>...</td>\n      <td>9</td>\n      <td>8</td>\n      <td>10</td>\n      <td>10</td>\n      <td>10</td>\n      <td>10</td>\n      <td>9</td>\n      <td>9</td>\n      <td>8</td>\n      <td>8</td>\n    </tr>\n    <tr>\n      <th>3</th>\n      <td>045dc0f3-a730-4d03-a615-f51814e5b04f</td>\n      <td>en</td>\n      <td>Mobile</td>\n      <td>male</td>\n      <td>21</td>\n      <td>5</td>\n      <td>8</td>\n      <td>5</td>\n      <td>5</td>\n      <td>5</td>\n      <td>...</td>\n      <td>7</td>\n      <td>9</td>\n      <td>10</td>\n      <td>8</td>\n      <td>8</td>\n      <td>10</td>\n      <td>10</td>\n      <td>8</td>\n      <td>10</td>\n      <td>6</td>\n    </tr>\n    <tr>\n      <th>4</th>\n      <td>092f2ee7-5281-4a09-9bce-e5523b95b53b</td>\n      <td>en</td>\n      <td>NaN</td>\n      <td>female</td>\n      <td>53</td>\n      <td>9</td>\n      <td>10</td>\n      <td>9</td>\n      <td>10</td>\n      <td>9</td>\n      <td>...</td>\n      <td>7</td>\n      <td>8</td>\n      <td>8</td>\n      <td>8</td>\n      <td>9</td>\n      <td>9</td>\n      <td>10</td>\n      <td>10</td>\n      <td>10</td>\n      <td>10</td>\n    </tr>\n    <tr>\n      <th>...</th>\n      <td>...</td>\n      <td>...</td>\n      <td>...</td>\n      <td>...</td>\n      <td>...</td>\n      <td>...</td>\n      <td>...</td>\n      <td>...</td>\n      <td>...</td>\n      <td>...</td>\n      <td>...</td>\n      <td>...</td>\n      <td>...</td>\n      <td>...</td>\n      <td>...</td>\n      <td>...</td>\n      <td>...</td>\n      <td>...</td>\n      <td>...</td>\n      <td>...</td>\n      <td>...</td>\n    </tr>\n    <tr>\n      <th>68</th>\n      <td>cb71d11a-4e8d-4ab8-80be-ac1f46f5b2d1</td>\n      <td>en</td>\n      <td>NaN</td>\n      <td>male</td>\n      <td>1</td>\n      <td>9</td>\n      <td>9</td>\n      <td>9</td>\n      <td>9</td>\n      <td>7</td>\n      <td>...</td>\n      <td>9</td>\n      <td>6</td>\n      <td>7</td>\n      <td>8</td>\n      <td>8</td>\n      <td>9</td>\n      <td>5</td>\n      <td>5</td>\n      <td>7</td>\n      <td>5</td>\n    </tr>\n    <tr>\n      <th>69</th>\n      <td>cd3dad39-da3f-4ada-9e09-a9832ca7bdd7</td>\n      <td>en</td>\n      <td>Mobile</td>\n      <td>male</td>\n      <td>21</td>\n      <td>8</td>\n      <td>9</td>\n      <td>10</td>\n      <td>9</td>\n      <td>8</td>\n      <td>...</td>\n      <td>10</td>\n      <td>8</td>\n      <td>10</td>\n      <td>9</td>\n      <td>9</td>\n      <td>8</td>\n      <td>6</td>\n      <td>7</td>\n      <td>8</td>\n      <td>6</td>\n    </tr>\n    <tr>\n      <th>70</th>\n      <td>f3b94dcb-2dde-48d7-968d-606fcddd692d</td>\n      <td>en</td>\n      <td>Desktop</td>\n      <td>male</td>\n      <td>46</td>\n      <td>10</td>\n      <td>6</td>\n      <td>10</td>\n      <td>6</td>\n      <td>6</td>\n      <td>...</td>\n      <td>5</td>\n      <td>8</td>\n      <td>6</td>\n      <td>5</td>\n      <td>8</td>\n      <td>6</td>\n      <td>1</td>\n      <td>1</td>\n      <td>1</td>\n      <td>1</td>\n    </tr>\n    <tr>\n      <th>71</th>\n      <td>ddbc5616-edb8-4052-9186-6e105e4491f6</td>\n      <td>en</td>\n      <td>Mobile</td>\n      <td>male</td>\n      <td>20</td>\n      <td>10</td>\n      <td>10</td>\n      <td>10</td>\n      <td>10</td>\n      <td>10</td>\n      <td>...</td>\n      <td>10</td>\n      <td>10</td>\n      <td>10</td>\n      <td>10</td>\n      <td>10</td>\n      <td>10</td>\n      <td>10</td>\n      <td>10</td>\n      <td>10</td>\n      <td>10</td>\n    </tr>\n    <tr>\n      <th>72</th>\n      <td>a7788435-7465-4f4d-9f4f-d412db68b295</td>\n      <td>en</td>\n      <td>Mobile</td>\n      <td>female</td>\n      <td>18</td>\n      <td>1</td>\n      <td>1</td>\n      <td>1</td>\n      <td>2</td>\n      <td>2</td>\n      <td>...</td>\n      <td>9</td>\n      <td>9</td>\n      <td>8</td>\n      <td>7</td>\n      <td>5</td>\n      <td>7</td>\n      <td>10</td>\n      <td>10</td>\n      <td>6</td>\n      <td>10</td>\n    </tr>\n  </tbody>\n</table>\n<p>73 rows × 31 columns</p>\n</div>"
     },
     "execution_count": 1,
     "metadata": {},
     "output_type": "execute_result"
    }
   ],
   "source": [
    "# Creating DataFrame\n",
    "import pandas\n",
    "\n",
    "survey_df = pandas.read_csv(\"survey.csv\")\n",
    "survey_df"
   ],
   "metadata": {
    "collapsed": false
   }
  },
  {
   "cell_type": "markdown",
   "source": [
    "The original data consists 73 records and each of the record possess 31 features."
   ],
   "metadata": {
    "collapsed": false
   }
  },
  {
   "cell_type": "markdown",
   "source": [
    "### Getting the first insight by calculating overall score for each user and for each single question"
   ],
   "metadata": {
    "collapsed": false
   }
  },
  {
   "cell_type": "code",
   "execution_count": 2,
   "outputs": [
    {
     "data": {
      "text/plain": "                                 user_id language platform  gender  age  q1  \\\n0   080c468b-27c0-455c-aa63-b8f807f2e3d7       en  Desktop    male   34   9   \n1   0b0379c7-04db-4c85-84bd-a2bd55329e29       en   Mobile  female   19  10   \n2   0e623280-b28b-4d4a-8eea-0732f09ed497       en   Mobile  female   19  10   \n3   045dc0f3-a730-4d03-a615-f51814e5b04f       en   Mobile    male   21   5   \n4   092f2ee7-5281-4a09-9bce-e5523b95b53b       en      NaN  female   53   9   \n..                                   ...      ...      ...     ...  ...  ..   \n68  cb71d11a-4e8d-4ab8-80be-ac1f46f5b2d1       en      NaN    male    1   9   \n69  cd3dad39-da3f-4ada-9e09-a9832ca7bdd7       en   Mobile    male   21   8   \n70  f3b94dcb-2dde-48d7-968d-606fcddd692d       en  Desktop    male   46  10   \n71  ddbc5616-edb8-4052-9186-6e105e4491f6       en   Mobile    male   20  10   \n72  a7788435-7465-4f4d-9f4f-d412db68b295       en   Mobile  female   18   1   \n\n    q2  q3  q4  q5  ...  q18  q19  q20  q21  q22  q23  q24  q25  q26  \\\n0    7   6   6   7  ...    4    6    5    6    6    5    2    5    3   \n1   10  10   9  10  ...   10   10   10   10   10   10   10    9    8   \n2   10  10  10  10  ...    8   10   10   10   10    9    9    8    8   \n3    8   5   5   5  ...    9   10    8    8   10   10    8   10    6   \n4   10   9  10   9  ...    8    8    8    9    9   10   10   10   10   \n..  ..  ..  ..  ..  ...  ...  ...  ...  ...  ...  ...  ...  ...  ...   \n68   9   9   9   7  ...    6    7    8    8    9    5    5    7    5   \n69   9  10   9   8  ...    8   10    9    9    8    6    7    8    6   \n70   6  10   6   6  ...    8    6    5    8    6    1    1    1    1   \n71  10  10  10  10  ...   10   10   10   10   10   10   10   10   10   \n72   1   1   2   2  ...    9    8    7    5    7   10   10    6   10   \n\n    average rating given  \n0               5.423077  \n1               9.807692  \n2               9.307692  \n3               7.307692  \n4               8.461538  \n..                   ...  \n68              7.038462  \n69              8.000000  \n70              4.730769  \n71             10.000000  \n72              6.346154  \n\n[73 rows x 32 columns]",
      "text/html": "<div>\n<style scoped>\n    .dataframe tbody tr th:only-of-type {\n        vertical-align: middle;\n    }\n\n    .dataframe tbody tr th {\n        vertical-align: top;\n    }\n\n    .dataframe thead th {\n        text-align: right;\n    }\n</style>\n<table border=\"1\" class=\"dataframe\">\n  <thead>\n    <tr style=\"text-align: right;\">\n      <th></th>\n      <th>user_id</th>\n      <th>language</th>\n      <th>platform</th>\n      <th>gender</th>\n      <th>age</th>\n      <th>q1</th>\n      <th>q2</th>\n      <th>q3</th>\n      <th>q4</th>\n      <th>q5</th>\n      <th>...</th>\n      <th>q18</th>\n      <th>q19</th>\n      <th>q20</th>\n      <th>q21</th>\n      <th>q22</th>\n      <th>q23</th>\n      <th>q24</th>\n      <th>q25</th>\n      <th>q26</th>\n      <th>average rating given</th>\n    </tr>\n  </thead>\n  <tbody>\n    <tr>\n      <th>0</th>\n      <td>080c468b-27c0-455c-aa63-b8f807f2e3d7</td>\n      <td>en</td>\n      <td>Desktop</td>\n      <td>male</td>\n      <td>34</td>\n      <td>9</td>\n      <td>7</td>\n      <td>6</td>\n      <td>6</td>\n      <td>7</td>\n      <td>...</td>\n      <td>4</td>\n      <td>6</td>\n      <td>5</td>\n      <td>6</td>\n      <td>6</td>\n      <td>5</td>\n      <td>2</td>\n      <td>5</td>\n      <td>3</td>\n      <td>5.423077</td>\n    </tr>\n    <tr>\n      <th>1</th>\n      <td>0b0379c7-04db-4c85-84bd-a2bd55329e29</td>\n      <td>en</td>\n      <td>Mobile</td>\n      <td>female</td>\n      <td>19</td>\n      <td>10</td>\n      <td>10</td>\n      <td>10</td>\n      <td>9</td>\n      <td>10</td>\n      <td>...</td>\n      <td>10</td>\n      <td>10</td>\n      <td>10</td>\n      <td>10</td>\n      <td>10</td>\n      <td>10</td>\n      <td>10</td>\n      <td>9</td>\n      <td>8</td>\n      <td>9.807692</td>\n    </tr>\n    <tr>\n      <th>2</th>\n      <td>0e623280-b28b-4d4a-8eea-0732f09ed497</td>\n      <td>en</td>\n      <td>Mobile</td>\n      <td>female</td>\n      <td>19</td>\n      <td>10</td>\n      <td>10</td>\n      <td>10</td>\n      <td>10</td>\n      <td>10</td>\n      <td>...</td>\n      <td>8</td>\n      <td>10</td>\n      <td>10</td>\n      <td>10</td>\n      <td>10</td>\n      <td>9</td>\n      <td>9</td>\n      <td>8</td>\n      <td>8</td>\n      <td>9.307692</td>\n    </tr>\n    <tr>\n      <th>3</th>\n      <td>045dc0f3-a730-4d03-a615-f51814e5b04f</td>\n      <td>en</td>\n      <td>Mobile</td>\n      <td>male</td>\n      <td>21</td>\n      <td>5</td>\n      <td>8</td>\n      <td>5</td>\n      <td>5</td>\n      <td>5</td>\n      <td>...</td>\n      <td>9</td>\n      <td>10</td>\n      <td>8</td>\n      <td>8</td>\n      <td>10</td>\n      <td>10</td>\n      <td>8</td>\n      <td>10</td>\n      <td>6</td>\n      <td>7.307692</td>\n    </tr>\n    <tr>\n      <th>4</th>\n      <td>092f2ee7-5281-4a09-9bce-e5523b95b53b</td>\n      <td>en</td>\n      <td>NaN</td>\n      <td>female</td>\n      <td>53</td>\n      <td>9</td>\n      <td>10</td>\n      <td>9</td>\n      <td>10</td>\n      <td>9</td>\n      <td>...</td>\n      <td>8</td>\n      <td>8</td>\n      <td>8</td>\n      <td>9</td>\n      <td>9</td>\n      <td>10</td>\n      <td>10</td>\n      <td>10</td>\n      <td>10</td>\n      <td>8.461538</td>\n    </tr>\n    <tr>\n      <th>...</th>\n      <td>...</td>\n      <td>...</td>\n      <td>...</td>\n      <td>...</td>\n      <td>...</td>\n      <td>...</td>\n      <td>...</td>\n      <td>...</td>\n      <td>...</td>\n      <td>...</td>\n      <td>...</td>\n      <td>...</td>\n      <td>...</td>\n      <td>...</td>\n      <td>...</td>\n      <td>...</td>\n      <td>...</td>\n      <td>...</td>\n      <td>...</td>\n      <td>...</td>\n      <td>...</td>\n    </tr>\n    <tr>\n      <th>68</th>\n      <td>cb71d11a-4e8d-4ab8-80be-ac1f46f5b2d1</td>\n      <td>en</td>\n      <td>NaN</td>\n      <td>male</td>\n      <td>1</td>\n      <td>9</td>\n      <td>9</td>\n      <td>9</td>\n      <td>9</td>\n      <td>7</td>\n      <td>...</td>\n      <td>6</td>\n      <td>7</td>\n      <td>8</td>\n      <td>8</td>\n      <td>9</td>\n      <td>5</td>\n      <td>5</td>\n      <td>7</td>\n      <td>5</td>\n      <td>7.038462</td>\n    </tr>\n    <tr>\n      <th>69</th>\n      <td>cd3dad39-da3f-4ada-9e09-a9832ca7bdd7</td>\n      <td>en</td>\n      <td>Mobile</td>\n      <td>male</td>\n      <td>21</td>\n      <td>8</td>\n      <td>9</td>\n      <td>10</td>\n      <td>9</td>\n      <td>8</td>\n      <td>...</td>\n      <td>8</td>\n      <td>10</td>\n      <td>9</td>\n      <td>9</td>\n      <td>8</td>\n      <td>6</td>\n      <td>7</td>\n      <td>8</td>\n      <td>6</td>\n      <td>8.000000</td>\n    </tr>\n    <tr>\n      <th>70</th>\n      <td>f3b94dcb-2dde-48d7-968d-606fcddd692d</td>\n      <td>en</td>\n      <td>Desktop</td>\n      <td>male</td>\n      <td>46</td>\n      <td>10</td>\n      <td>6</td>\n      <td>10</td>\n      <td>6</td>\n      <td>6</td>\n      <td>...</td>\n      <td>8</td>\n      <td>6</td>\n      <td>5</td>\n      <td>8</td>\n      <td>6</td>\n      <td>1</td>\n      <td>1</td>\n      <td>1</td>\n      <td>1</td>\n      <td>4.730769</td>\n    </tr>\n    <tr>\n      <th>71</th>\n      <td>ddbc5616-edb8-4052-9186-6e105e4491f6</td>\n      <td>en</td>\n      <td>Mobile</td>\n      <td>male</td>\n      <td>20</td>\n      <td>10</td>\n      <td>10</td>\n      <td>10</td>\n      <td>10</td>\n      <td>10</td>\n      <td>...</td>\n      <td>10</td>\n      <td>10</td>\n      <td>10</td>\n      <td>10</td>\n      <td>10</td>\n      <td>10</td>\n      <td>10</td>\n      <td>10</td>\n      <td>10</td>\n      <td>10.000000</td>\n    </tr>\n    <tr>\n      <th>72</th>\n      <td>a7788435-7465-4f4d-9f4f-d412db68b295</td>\n      <td>en</td>\n      <td>Mobile</td>\n      <td>female</td>\n      <td>18</td>\n      <td>1</td>\n      <td>1</td>\n      <td>1</td>\n      <td>2</td>\n      <td>2</td>\n      <td>...</td>\n      <td>9</td>\n      <td>8</td>\n      <td>7</td>\n      <td>5</td>\n      <td>7</td>\n      <td>10</td>\n      <td>10</td>\n      <td>6</td>\n      <td>10</td>\n      <td>6.346154</td>\n    </tr>\n  </tbody>\n</table>\n<p>73 rows × 32 columns</p>\n</div>"
     },
     "execution_count": 2,
     "metadata": {},
     "output_type": "execute_result"
    }
   ],
   "source": [
    "# Average for each row (Average score each user gave)\n",
    "\n",
    "def average_user_rating():\n",
    "    '''\n",
    "    :return: a new dataframe based on the original one with one more column at the right end presenting each user's overall score\n",
    "    '''\n",
    "    averagesList = []\n",
    "\n",
    "    for i, row in survey_df.iterrows():\n",
    "\n",
    "        j = 1\n",
    "        sum = 0\n",
    "\n",
    "        while j < 27:\n",
    "            question = 'q' + str(j)\n",
    "            sum = sum + row[question]\n",
    "            j = j + 1\n",
    "\n",
    "        average = sum / 26\n",
    "        averagesList.append(average)\n",
    "\n",
    "    survey_df['average rating given'] = averagesList\n",
    "\n",
    "    return survey_df\n",
    "\n",
    "\n",
    "average_user_rating()"
   ],
   "metadata": {
    "collapsed": false
   }
  },
  {
   "cell_type": "code",
   "execution_count": 23,
   "outputs": [
    {
     "data": {
      "text/plain": "age                     24.863014\nq1                       8.013699\nq2                       7.863014\nq3                       7.821918\nq4                       7.410959\nq5                       7.506849\nq6                       7.643836\nq7                       7.630137\nq8                       7.602740\nq9                       7.068493\nq10                      6.438356\nq11                      7.054795\nq12                      6.863014\nq13                      7.534247\nq14                      7.684932\nq15                      7.575342\nq16                      7.041096\nq17                      8.068493\nq18                      7.452055\nq19                      7.465753\nq20                      7.410959\nq21                      7.589041\nq22                      7.808219\nq23                      7.561644\nq24                      7.479452\nq25                      7.561644\nq26                      7.328767\naverage rating given     7.479979\ndtype: float64"
     },
     "execution_count": 23,
     "metadata": {},
     "output_type": "execute_result"
    }
   ],
   "source": [
    "survey_df.mean()"
   ],
   "metadata": {
    "collapsed": false
   }
  },
  {
   "cell_type": "markdown",
   "source": [
    "### Exploring whether different gender will have different impression on the website"
   ],
   "metadata": {
    "collapsed": false
   }
  },
  {
   "cell_type": "code",
   "execution_count": 3,
   "outputs": [
    {
     "data": {
      "text/plain": "7.318803418803418"
     },
     "execution_count": 3,
     "metadata": {},
     "output_type": "execute_result"
    }
   ],
   "source": [
    "# get average rating given by all members of a specific gender\n",
    "\n",
    "#Seems to be an issue when I tried running this function, I got a key error for 'average rating given' - Alex\n",
    "\n",
    "def average_rating_for_gender(gender):\n",
    "    '''\n",
    "    :param gender: 'male', 'female', 'other'\n",
    "    :return:\n",
    "    '''\n",
    "\n",
    "    gender_df = survey_df[survey_df['gender'] == gender]\n",
    "    sum = 0\n",
    "\n",
    "    for i, row in gender_df.iterrows():\n",
    "        sum = sum + row['average rating given']\n",
    "\n",
    "    df_length = len(gender_df.index)\n",
    "    average = sum / df_length\n",
    "\n",
    "    return average\n",
    "\n",
    "\n",
    "average_rating_for_gender(\"male\")"
   ],
   "metadata": {
    "collapsed": false
   }
  },
  {
   "cell_type": "code",
   "execution_count": 4,
   "outputs": [
    {
     "data": {
      "text/plain": "7.881656804733728"
     },
     "execution_count": 4,
     "metadata": {},
     "output_type": "execute_result"
    }
   ],
   "source": [
    "average_rating_for_gender(\"female\")"
   ],
   "metadata": {
    "collapsed": false
   }
  },
  {
   "cell_type": "code",
   "execution_count": 5,
   "outputs": [
    {
     "data": {
      "text/plain": "5.884615384615385"
     },
     "execution_count": 5,
     "metadata": {},
     "output_type": "execute_result"
    }
   ],
   "source": [
    "average_rating_for_gender(\"other\")"
   ],
   "metadata": {
    "collapsed": false
   }
  },
  {
   "cell_type": "markdown",
   "source": [
    "It seems like female prefers this website than male and non-specific gender group."
   ],
   "metadata": {
    "collapsed": false
   }
  },
  {
   "cell_type": "markdown",
   "source": [
    "### Gathering information of which age prefers which kind of platform"
   ],
   "metadata": {
    "collapsed": false
   }
  },
  {
   "cell_type": "code",
   "execution_count": 7,
   "outputs": [
    {
     "name": "stdout",
     "output_type": "stream",
     "text": [
      "[(34, 'Desktop'), (19, 'Mobile'), (19, 'Mobile'), (21, 'Mobile'), (53, nan), (53, 'Mobile'), (18, 'Desktop'), (20, 'Mobile'), (19, 'Mobile'), (19, 'Mobile'), (13, 'Mobile'), (18, 'Mobile'), (19, 'Mobile'), (34, 'Mobile'), (29, 'Desktop'), (19, 'Mobile'), (46, nan), (44, 'Mobile'), (21, 'Desktop'), (20, 'Mobile'), (20, 'Mobile'), (20, 'Mobile'), (18, 'Mobile'), (2, 'Mobile'), (21, 'Mobile'), (27, 'Mobile'), (18, 'Mobile'), (45, 'Mobile'), (51, 'Mobile'), (1, nan), (25, nan), (21, 'Mobile'), (18, 'Mobile'), (21, 'Mobile'), (37, 'Mobile'), (38, 'Desktop'), (18, 'Mobile'), (45, 'Mobile'), (21, 'Mobile'), (1, nan), (20, 'Mobile'), (26, 'Mobile'), (18, 'Desktop'), (20, 'Mobile'), (19, 'Desktop'), (37, 'Desktop'), (22, 'Mobile'), (20, 'Mobile'), (21, 'Mobile'), (45, nan), (19, 'Mobile'), (40, 'Mobile'), (46, 'Mobile'), (55, 'Desktop'), (19, 'Mobile'), (19, 'Mobile'), (21, 'Mobile'), (45, 'Mobile'), (19, 'Mobile'), (23, nan), (19, 'Mobile'), (21, 'Mobile'), (21, 'Mobile'), (18, 'Desktop'), (20, 'Mobile'), (18, 'Mobile'), (20, 'Mobile'), (12, 'Mobile'), (1, nan), (21, 'Mobile'), (46, 'Desktop'), (20, 'Mobile'), (18, 'Mobile')]\n"
     ]
    }
   ],
   "source": [
    "#Calculate what platforms an age range prefers\n",
    "#This function will be graphed\n",
    "\n",
    "def PlatformByAge():\n",
    "    finalshow = []\n",
    "\n",
    "    for i, row in survey_df.iterrows():\n",
    "        finalshow.append((row['age'], row['platform']))\n",
    "\n",
    "    return finalshow\n",
    "\n",
    "\n",
    "print(PlatformByAge())"
   ],
   "metadata": {
    "collapsed": false
   }
  },
  {
   "cell_type": "markdown",
   "source": [
    "### Calculating overall score given by a specific user in an age range"
   ],
   "metadata": {
    "collapsed": false
   }
  },
  {
   "cell_type": "code",
   "execution_count": 21,
   "outputs": [
    {
     "name": "stdout",
     "output_type": "stream",
     "text": [
      "7.532051282051281\n"
     ]
    }
   ],
   "source": [
    "#Outputs the average overall rating of the certain age range specified\n",
    "#ageRange should be passed as in tuple format, i.e. (1, 10) or (10, 20) etc\n",
    "\n",
    "def AverageRatingAge(ageRange):\n",
    "    '''\n",
    "    :param ageRange:\n",
    "    :return: average score given by some people in a specific age range\n",
    "    '''\n",
    "\n",
    "    total = 0\n",
    "    entries = 0\n",
    "\n",
    "    for i, row in survey_df.iterrows():\n",
    "        if row['age'] in range(ageRange[0], ageRange[1]):\n",
    "            start = 1\n",
    "            tempTotal = 0\n",
    "            while start != 27:\n",
    "                question = 'q' + str(start)\n",
    "                tempTotal += row[question]\n",
    "                start += 1\n",
    "            total += tempTotal / 26\n",
    "            entries += 1\n",
    "    average = total / entries\n",
    "\n",
    "    return average\n",
    "\n",
    "\n",
    "print(AverageRatingAge((1, 17)))"
   ],
   "metadata": {
    "collapsed": false
   }
  },
  {
   "cell_type": "code",
   "execution_count": 22,
   "outputs": [
    {
     "name": "stdout",
     "output_type": "stream",
     "text": [
      "[(1, 10, 6.88), (1, 10, 6.88), (1, 10, 6.88), (1, 10, 6.88), (11, 20, 7.86), (11, 20, 7.86), (11, 20, 7.86), (11, 20, 7.86), (11, 20, 7.86), (11, 20, 7.86), (11, 20, 7.86), (11, 20, 7.86), (11, 20, 7.86), (11, 20, 7.86), (11, 20, 7.86), (11, 20, 7.86), (11, 20, 7.86), (11, 20, 7.86), (11, 20, 7.86), (11, 20, 7.86), (11, 20, 7.86), (11, 20, 7.86), (11, 20, 7.86), (11, 20, 7.86), (11, 20, 7.86), (11, 20, 7.86), (11, 20, 7.86), (11, 20, 7.86), (21, 30, 7.54), (21, 30, 7.54), (21, 30, 7.54), (21, 30, 7.54), (21, 30, 7.54), (21, 30, 7.54), (21, 30, 7.54), (21, 30, 7.54), (21, 30, 7.54), (21, 30, 7.54), (21, 30, 7.54), (21, 30, 7.54), (21, 30, 7.54), (21, 30, 7.54), (21, 30, 7.54), (21, 30, 7.54), (21, 30, 7.54), (31, 40, 6.41), (31, 40, 6.41), (31, 40, 6.41), (31, 40, 6.41), (31, 40, 6.41), (41, 50, 6.55), (41, 50, 6.55), (41, 50, 6.55), (41, 50, 6.55), (41, 50, 6.55), (41, 50, 6.55), (41, 50, 6.55), (41, 50, 6.55), (51, 60, 7.57), (51, 60, 7.57), (51, 60, 7.57), (51, 60, 7.57)]\n"
     ]
    }
   ],
   "source": [
    "#Might graph this idk - I agree to draw this since it's informative\n",
    "#Outputs list of tuples indicating average scores of age ranges 1-10, 11-20, 21-30, etc\n",
    "\n",
    "def AvgVAge():\n",
    "    ageRatingList = []\n",
    "\n",
    "    for i, row in survey_df.iterrows():\n",
    "        if row['age'] <= 10:\n",
    "            ageRatingList.append((1, 10, round(AverageRatingAge((1, 10)), 2)))\n",
    "        if row['age'] in range(11, 20):\n",
    "            ageRatingList.append((11, 20, round(AverageRatingAge((11, 20)), 2)))\n",
    "        if row['age'] in range(21, 30):\n",
    "            ageRatingList.append((21, 30, round(AverageRatingAge((21, 30)), 2)))\n",
    "        if row['age'] in range(31, 40):\n",
    "            ageRatingList.append((31, 40, round(AverageRatingAge((31, 40)), 2)))\n",
    "        if row['age'] in range(41, 50):\n",
    "            ageRatingList.append((41, 50, round(AverageRatingAge((41, 50)), 2)))\n",
    "        if row['age'] in range(51, 60):\n",
    "            ageRatingList.append((51, 60, round(AverageRatingAge((51, 60)), 2)))\n",
    "\n",
    "    return sorted(ageRatingList)\n",
    "\n",
    "\n",
    "print(AvgVAge())"
   ],
   "metadata": {
    "collapsed": false
   }
  },
  {
   "cell_type": "markdown",
   "source": [
    "### Discovering whether different version of platform of the website will have an impact on user's satisfactory"
   ],
   "metadata": {
    "collapsed": false
   }
  },
  {
   "cell_type": "code",
   "execution_count": 25,
   "outputs": [
    {
     "data": {
      "text/plain": "                age        q1        q2        q3        q4        q5  \\\nplatform                                                                \nDesktop   30.272727  8.545455  7.818182  7.454545  7.363636  7.454545   \nMobile    23.833333  7.925926  7.851852  7.870370  7.314815  7.648148   \n\n                q6        q7        q8        q9  ...       q18       q19  \\\nplatform                                          ...                       \nDesktop   7.727273  7.545455  7.454545  5.909091  ...  6.545455  7.181818   \nMobile    7.740741  7.759259  7.814815  7.722222  ...  7.907407  7.722222   \n\n               q20       q21       q22       q23       q24       q25  \\\nplatform                                                               \nDesktop   6.545455  6.727273  7.181818  6.545455  6.636364  6.363636   \nMobile    7.740741  7.851852  8.055556  7.888889  7.777778  7.962963   \n\n               q26  average rating given  \nplatform                                  \nDesktop   6.000000              6.828671  \nMobile    7.777778              7.748575  \n\n[2 rows x 28 columns]",
      "text/html": "<div>\n<style scoped>\n    .dataframe tbody tr th:only-of-type {\n        vertical-align: middle;\n    }\n\n    .dataframe tbody tr th {\n        vertical-align: top;\n    }\n\n    .dataframe thead th {\n        text-align: right;\n    }\n</style>\n<table border=\"1\" class=\"dataframe\">\n  <thead>\n    <tr style=\"text-align: right;\">\n      <th></th>\n      <th>age</th>\n      <th>q1</th>\n      <th>q2</th>\n      <th>q3</th>\n      <th>q4</th>\n      <th>q5</th>\n      <th>q6</th>\n      <th>q7</th>\n      <th>q8</th>\n      <th>q9</th>\n      <th>...</th>\n      <th>q18</th>\n      <th>q19</th>\n      <th>q20</th>\n      <th>q21</th>\n      <th>q22</th>\n      <th>q23</th>\n      <th>q24</th>\n      <th>q25</th>\n      <th>q26</th>\n      <th>average rating given</th>\n    </tr>\n    <tr>\n      <th>platform</th>\n      <th></th>\n      <th></th>\n      <th></th>\n      <th></th>\n      <th></th>\n      <th></th>\n      <th></th>\n      <th></th>\n      <th></th>\n      <th></th>\n      <th></th>\n      <th></th>\n      <th></th>\n      <th></th>\n      <th></th>\n      <th></th>\n      <th></th>\n      <th></th>\n      <th></th>\n      <th></th>\n      <th></th>\n    </tr>\n  </thead>\n  <tbody>\n    <tr>\n      <th>Desktop</th>\n      <td>30.272727</td>\n      <td>8.545455</td>\n      <td>7.818182</td>\n      <td>7.454545</td>\n      <td>7.363636</td>\n      <td>7.454545</td>\n      <td>7.727273</td>\n      <td>7.545455</td>\n      <td>7.454545</td>\n      <td>5.909091</td>\n      <td>...</td>\n      <td>6.545455</td>\n      <td>7.181818</td>\n      <td>6.545455</td>\n      <td>6.727273</td>\n      <td>7.181818</td>\n      <td>6.545455</td>\n      <td>6.636364</td>\n      <td>6.363636</td>\n      <td>6.000000</td>\n      <td>6.828671</td>\n    </tr>\n    <tr>\n      <th>Mobile</th>\n      <td>23.833333</td>\n      <td>7.925926</td>\n      <td>7.851852</td>\n      <td>7.870370</td>\n      <td>7.314815</td>\n      <td>7.648148</td>\n      <td>7.740741</td>\n      <td>7.759259</td>\n      <td>7.814815</td>\n      <td>7.722222</td>\n      <td>...</td>\n      <td>7.907407</td>\n      <td>7.722222</td>\n      <td>7.740741</td>\n      <td>7.851852</td>\n      <td>8.055556</td>\n      <td>7.888889</td>\n      <td>7.777778</td>\n      <td>7.962963</td>\n      <td>7.777778</td>\n      <td>7.748575</td>\n    </tr>\n  </tbody>\n</table>\n<p>2 rows × 28 columns</p>\n</div>"
     },
     "execution_count": 25,
     "metadata": {},
     "output_type": "execute_result"
    }
   ],
   "source": [
    "survey_df_grouped_by_platform = survey_df.groupby(by='platform')\n",
    "mean_by_platform = survey_df_grouped_by_platform.mean()\n",
    "mean_by_platform"
   ],
   "metadata": {
    "collapsed": false
   }
  },
  {
   "cell_type": "markdown",
   "source": [
    "We can see that generally, mobile version of the website was liked by user"
   ],
   "metadata": {
    "collapsed": false
   }
  },
  {
   "cell_type": "markdown",
   "metadata": {},
   "source": [
    "# Project Outcome (10 + 10 marks)\n",
    "\n",
    "_This section should describe the outcome of the project by means of both explanation of the results and by graphical visualisation in the form of graphs, charts or or other kinds of diagram_\n",
    "\n",
    "_The section should begin with a general overview of the results and then have a section for each of the project objectives. For each of these objectives an explanation of more specific results relating to that objective shoud be given, followed by a section presenting some visualisation of the results obtained. (In the case where\n",
    "the project had just one objective, you should still have a section describing\n",
    "the results from a general perspective followed by a section that focuses on\n",
    "the particular objective.)_\n",
    "\n",
    "_The marks for this section will be divided into 10 marks for Explanation\n",
    "and 10 marks for Visualisation. These marks will be awarded for the Project Outcome\n",
    "section as a whole, not for each objective individually. Hence, you do not\n",
    "have to pay equal attention to each. However, you are expected to have a\n",
    "some explanation and visualisation for each. It is suggested you have\n",
    "200-400 words explanation for each objective._"
   ]
  },
  {
   "cell_type": "markdown",
   "metadata": {
    "slideshow": {
     "slide_type": "fragment"
    }
   },
   "source": [
    "## Overview of Results\n",
    "_Give a general overview of the results (around 200 words)._"
   ]
  },
  {
   "cell_type": "markdown",
   "metadata": {},
   "source": [
    "## Objective 1\n",
    "\n",
    "### Explanation of Results\n",
    "\n",
    "_200-400 words_\n",
    "We can just sum up all the discovery provided by each cell above, segmented by finds in platform, age and gender\n",
    "\n",
    "### Visualisation\n",
    "_The following bar chart gives a vivid representation of the distribution\n",
    "of fridge magnet types, in which the dominance of 'meme' type magnets\n",
    "is dramatically illustrated._"
   ]
  },
  {
   "cell_type": "markdown",
   "metadata": {},
   "source": [
    "## Objective 2\n",
    "### Explanation of Results\n",
    "\n",
    "200-400 Words\n",
    "\n",
    "### Visualisation"
   ]
  },
  {
   "cell_type": "markdown",
   "metadata": {},
   "source": [
    "## Objective 3\n",
    "### Explanation of Results\n",
    "\n",
    "200-400 Words\n",
    "\n",
    "### Visualisation"
   ]
  },
  {
   "cell_type": "markdown",
   "metadata": {},
   "source": [
    "## Objective 4 \n",
    "### Explanation of Results\n",
    "\n",
    "200-400 Words\n",
    "\n",
    "### Visualisation"
   ]
  },
  {
   "cell_type": "markdown",
   "metadata": {},
   "source": [
    "# Conclusion (5 marks)\n",
    "\n",
    "_Your concluding section should be around 200-400 words. It is recommended\n",
    "that you divide it into the following sections._\n",
    "\n",
    "### Achievements\n",
    "_As we had expected, the most popular fridge magnets were of the 'meme' kind.\n",
    "We were surprised that 'smiley' fridge magnets were less common than expected.\n",
    "We conjecture that this is because, although they are apparently very popular,\n",
    "few fridges display more than one smiley. However, 'meme' based magnets can\n",
    "be found in large numbers, even on quite small fridges._\n",
    "\n",
    "### Limitations\n",
    "\n",
    "_The project was limited to a small number of fridge magents, which may not be\n",
    "typical of fridges found in the global fridge magnet ecosystem._\n",
    "\n",
    "### Future Work\n",
    "\n",
    "_In future work we would like to obtain more diverse data and study fridge magnets \n",
    "beyond the limited confines of student accomodation. We hypothesise that there\n",
    "could be a link between fridge magnet types and social class and/or educational\n",
    "achievement._"
   ]
  },
  {
   "cell_type": "code",
   "execution_count": null,
   "metadata": {},
   "outputs": [],
   "source": []
  }
 ],
 "metadata": {
  "kernelspec": {
   "display_name": "Python 3 (ipykernel)",
   "language": "python",
   "name": "python3"
  },
  "language_info": {
   "codemirror_mode": {
    "name": "ipython",
    "version": 3
   },
   "file_extension": ".py",
   "mimetype": "text/x-python",
   "name": "python",
   "nbconvert_exporter": "python",
   "pygments_lexer": "ipython3",
   "version": "3.9.12"
  }
 },
 "nbformat": 4,
 "nbformat_minor": 4
}
